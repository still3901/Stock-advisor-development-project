{
  "cells": [
    {
      "cell_type": "code",
      "execution_count": 26,
      "metadata": {
        "colab": {
          "base_uri": "https://localhost:8080/"
        },
        "id": "n5Qvn6sETNNH",
        "outputId": "a4b991dd-42bb-451d-e79a-4672c338b81e"
      },
      "outputs": [
        {
          "output_type": "stream",
          "name": "stdout",
          "text": [
            "Drive already mounted at /content/drive; to attempt to forcibly remount, call drive.mount(\"/content/drive\", force_remount=True).\n"
          ]
        }
      ],
      "source": [
        "# prompt: 마운트\n",
        "\n",
        "from google.colab import drive\n",
        "drive.mount(\"/content/drive\")\n"
      ]
    },
    {
      "cell_type": "code",
      "execution_count": 27,
      "metadata": {
        "id": "3L-iUXp8UH4n",
        "colab": {
          "base_uri": "https://localhost:8080/"
        },
        "outputId": "1a9fcbd0-5a4e-4972-d061-789d9d556ebb"
      },
      "outputs": [
        {
          "output_type": "stream",
          "name": "stdout",
          "text": [
            "Requirement already satisfied: finance-datareader in /usr/local/lib/python3.10/dist-packages (0.9.90)\n",
            "Requirement already satisfied: pandas>=0.19.2 in /usr/local/lib/python3.10/dist-packages (from finance-datareader) (2.0.3)\n",
            "Requirement already satisfied: requests>=2.3.0 in /usr/local/lib/python3.10/dist-packages (from finance-datareader) (2.31.0)\n",
            "Requirement already satisfied: requests-file in /usr/local/lib/python3.10/dist-packages (from finance-datareader) (2.1.0)\n",
            "Requirement already satisfied: lxml in /usr/local/lib/python3.10/dist-packages (from finance-datareader) (4.9.4)\n",
            "Requirement already satisfied: tqdm in /usr/local/lib/python3.10/dist-packages (from finance-datareader) (4.66.4)\n",
            "Requirement already satisfied: python-dateutil>=2.8.2 in /usr/local/lib/python3.10/dist-packages (from pandas>=0.19.2->finance-datareader) (2.8.2)\n",
            "Requirement already satisfied: pytz>=2020.1 in /usr/local/lib/python3.10/dist-packages (from pandas>=0.19.2->finance-datareader) (2023.4)\n",
            "Requirement already satisfied: tzdata>=2022.1 in /usr/local/lib/python3.10/dist-packages (from pandas>=0.19.2->finance-datareader) (2024.1)\n",
            "Requirement already satisfied: numpy>=1.21.0 in /usr/local/lib/python3.10/dist-packages (from pandas>=0.19.2->finance-datareader) (1.25.2)\n",
            "Requirement already satisfied: charset-normalizer<4,>=2 in /usr/local/lib/python3.10/dist-packages (from requests>=2.3.0->finance-datareader) (3.3.2)\n",
            "Requirement already satisfied: idna<4,>=2.5 in /usr/local/lib/python3.10/dist-packages (from requests>=2.3.0->finance-datareader) (3.7)\n",
            "Requirement already satisfied: urllib3<3,>=1.21.1 in /usr/local/lib/python3.10/dist-packages (from requests>=2.3.0->finance-datareader) (2.0.7)\n",
            "Requirement already satisfied: certifi>=2017.4.17 in /usr/local/lib/python3.10/dist-packages (from requests>=2.3.0->finance-datareader) (2024.2.2)\n",
            "Requirement already satisfied: six>=1.5 in /usr/local/lib/python3.10/dist-packages (from python-dateutil>=2.8.2->pandas>=0.19.2->finance-datareader) (1.16.0)\n"
          ]
        }
      ],
      "source": [
        "!pip install finance-datareader"
      ]
    },
    {
      "cell_type": "markdown",
      "source": [
        "#라이브러리 임포트"
      ],
      "metadata": {
        "id": "t5JwdKRnHmHG"
      }
    },
    {
      "cell_type": "code",
      "source": [
        "import datetime\n",
        "import nltk\n",
        "import pandas as pd\n",
        "import numpy as np\n",
        "##import gensim\n",
        "from gensim.models import Word2Vec\n",
        "from nltk.tokenize import word_tokenize\n",
        "#주가데이터 가져오기\n",
        "import FinanceDataReader as fdr\n",
        "import yfinance as yf\n",
        "\n",
        "#모델 라이브러리\n",
        "from sklearn.ensemble import RandomForestClassifier\n",
        "from sklearn.neighbors import KNeighborsClassifier\n",
        "from sklearn.linear_model import LogisticRegression\n",
        "from sklearn.naive_bayes import GaussianNB\n",
        "from sklearn.ensemble import GradientBoostingClassifier\n",
        "from sklearn.linear_model import LogisticRegression\n",
        "from sklearn.naive_bayes import GaussianNB\n",
        "from sklearn.tree import DecisionTreeClassifier\n",
        "from sklearn.ensemble import BaggingClassifier\n",
        "import xgboost as xgb\n",
        "from sklearn.svm import SVC\n",
        "\n",
        "#모델저장 라이브러리\n",
        "import pickle\n",
        "import os"
      ],
      "metadata": {
        "id": "dfwvLEppHo8f"
      },
      "execution_count": 92,
      "outputs": []
    },
    {
      "cell_type": "code",
      "execution_count": 206,
      "metadata": {
        "id": "XvBVYnvP8OUV"
      },
      "outputs": [],
      "source": [
        "df = pd.read_excel('/content/drive/MyDrive/kdt/team_por/전처리_v2/booldf_ff.xlsx')"
      ]
    },
    {
      "cell_type": "code",
      "source": [
        "#df = df.drop(columns=['head_label_count', 'Text_label_count'])"
      ],
      "metadata": {
        "id": "HqCydwF8Liei"
      },
      "execution_count": 207,
      "outputs": []
    },
    {
      "cell_type": "code",
      "source": [
        "df.shape"
      ],
      "metadata": {
        "colab": {
          "base_uri": "https://localhost:8080/"
        },
        "id": "7qbPgYMBK6PY",
        "outputId": "851d1629-8ae7-4764-8066-8dbacace169b"
      },
      "execution_count": 208,
      "outputs": [
        {
          "output_type": "execute_result",
          "data": {
            "text/plain": [
              "(16676, 23)"
            ]
          },
          "metadata": {},
          "execution_count": 208
        }
      ]
    },
    {
      "cell_type": "code",
      "source": [
        "df.columns"
      ],
      "metadata": {
        "colab": {
          "base_uri": "https://localhost:8080/"
        },
        "id": "Hm9CWqGyUA71",
        "outputId": "6c5f2a87-2245-4926-fa2c-a88bd1947d3b"
      },
      "execution_count": 204,
      "outputs": [
        {
          "output_type": "execute_result",
          "data": {
            "text/plain": [
              "Index(['head', 'Date', 'Text', 'type', 'src', 'Open', 'High', 'Low', 'Close',\n",
              "       'Adj Close', 'Volume', 'SOXL_Open', 'SOXL_High', 'SOXL_Low',\n",
              "       'SOXL_Close', 'SOXL_Adj Close', 'SOXL_Volume', 'head_wordcount',\n",
              "       'Text_wordcount', 'head_label', 'Text_label', 'head_label_count',\n",
              "       'Text_label_count'],\n",
              "      dtype='object')"
            ]
          },
          "metadata": {},
          "execution_count": 204
        }
      ]
    },
    {
      "cell_type": "code",
      "source": [
        "df.info()"
      ],
      "metadata": {
        "colab": {
          "base_uri": "https://localhost:8080/"
        },
        "id": "g-KfxSibH5MK",
        "outputId": "f83e584c-2767-48f5-f069-fa7950755a7e"
      },
      "execution_count": 143,
      "outputs": [
        {
          "output_type": "stream",
          "name": "stdout",
          "text": [
            "<class 'pandas.core.frame.DataFrame'>\n",
            "RangeIndex: 16676 entries, 0 to 16675\n",
            "Data columns (total 21 columns):\n",
            " #   Column          Non-Null Count  Dtype  \n",
            "---  ------          --------------  -----  \n",
            " 0   head            16672 non-null  object \n",
            " 1   Date            16676 non-null  object \n",
            " 2   Text            16642 non-null  object \n",
            " 3   type            16676 non-null  object \n",
            " 4   src             16676 non-null  object \n",
            " 5   Open            16676 non-null  float64\n",
            " 6   High            16676 non-null  float64\n",
            " 7   Low             16676 non-null  float64\n",
            " 8   Close           16676 non-null  float64\n",
            " 9   Adj Close       16676 non-null  float64\n",
            " 10  Volume          16676 non-null  int64  \n",
            " 11  SOXL_Open       16676 non-null  float64\n",
            " 12  SOXL_High       16676 non-null  float64\n",
            " 13  SOXL_Low        16676 non-null  float64\n",
            " 14  SOXL_Close      16676 non-null  float64\n",
            " 15  SOXL_Adj Close  16676 non-null  float64\n",
            " 16  SOXL_Volume     16676 non-null  int64  \n",
            " 17  head_wordcount  16676 non-null  int64  \n",
            " 18  Text_wordcount  16676 non-null  int64  \n",
            " 19  head_label      16676 non-null  int64  \n",
            " 20  Text_label      16676 non-null  int64  \n",
            "dtypes: float64(10), int64(6), object(5)\n",
            "memory usage: 2.7+ MB\n"
          ]
        }
      ]
    },
    {
      "cell_type": "code",
      "source": [
        "df=df.dropna()"
      ],
      "metadata": {
        "id": "bGeyGBtaLMrd"
      },
      "execution_count": 174,
      "outputs": []
    },
    {
      "cell_type": "code",
      "source": [
        "df.isnull().sum()"
      ],
      "metadata": {
        "colab": {
          "base_uri": "https://localhost:8080/"
        },
        "id": "qjrA1Py8Ltxa",
        "outputId": "6ec81ab3-a5a3-4eba-cd7a-7989085d142f"
      },
      "execution_count": 145,
      "outputs": [
        {
          "output_type": "execute_result",
          "data": {
            "text/plain": [
              "head              0\n",
              "Date              0\n",
              "Text              0\n",
              "type              0\n",
              "src               0\n",
              "Open              0\n",
              "High              0\n",
              "Low               0\n",
              "Close             0\n",
              "Adj Close         0\n",
              "Volume            0\n",
              "SOXL_Open         0\n",
              "SOXL_High         0\n",
              "SOXL_Low          0\n",
              "SOXL_Close        0\n",
              "SOXL_Adj Close    0\n",
              "SOXL_Volume       0\n",
              "head_wordcount    0\n",
              "Text_wordcount    0\n",
              "head_label        0\n",
              "Text_label        0\n",
              "dtype: int64"
            ]
          },
          "metadata": {},
          "execution_count": 145
        }
      ]
    },
    {
      "cell_type": "markdown",
      "source": [
        "# type과 src 고윳값 출력"
      ],
      "metadata": {
        "id": "YagSbC1OV-FF"
      }
    },
    {
      "cell_type": "code",
      "execution_count": 209,
      "metadata": {
        "id": "_rSex4QXIXjf"
      },
      "outputs": [],
      "source": [
        "df['type'] = df['type'].str.replace('$', '', regex=False)"
      ]
    },
    {
      "cell_type": "code",
      "execution_count": 210,
      "metadata": {
        "colab": {
          "base_uri": "https://localhost:8080/"
        },
        "id": "5K2ILQqTItxM",
        "outputId": "0e0b1d2a-1850-4766-dc4f-b629914a54e6"
      },
      "outputs": [
        {
          "output_type": "execute_result",
          "data": {
            "text/plain": [
              "array(['TSMC', 'ON', 'ASML', 'NVDA', 'AVGO', 'INTC', 'ENTG', 'NXPI', 'MU',\n",
              "       'TXN', 'MCHP', 'MPWR', 'MRVL', 'QCOM', 'AMD', 'ACLS', 'ASX',\n",
              "       'KLAC', 'LSCC', 'MKSI', 'QRVO', 'RMBS', 'STM', 'SWKS', 'UMC',\n",
              "       'WOLF', 'ADI', 'AMAT', 'LRCX', 'TER'], dtype=object)"
            ]
          },
          "metadata": {},
          "execution_count": 210
        }
      ],
      "source": [
        "df.type.unique()"
      ]
    },
    {
      "cell_type": "code",
      "source": [
        "df.src.unique()"
      ],
      "metadata": {
        "colab": {
          "base_uri": "https://localhost:8080/"
        },
        "id": "l40sEegiIAQK",
        "outputId": "769410b4-e143-43a4-842d-60f1fae73a89"
      },
      "execution_count": 211,
      "outputs": [
        {
          "output_type": "execute_result",
          "data": {
            "text/plain": [
              "array(['reddit', 'investing', 'naver'], dtype=object)"
            ]
          },
          "metadata": {},
          "execution_count": 211
        }
      ]
    },
    {
      "cell_type": "code",
      "execution_count": 212,
      "metadata": {
        "id": "xLIHrYoesSnM"
      },
      "outputs": [],
      "source": [
        "df = df[df['type'] != \"TER\"]\n",
        "df = df[df['src'] != \"naver\"]"
      ]
    },
    {
      "cell_type": "markdown",
      "source": [
        "#주가데아턱 가져오기"
      ],
      "metadata": {
        "id": "xSE6hUmu287O"
      }
    },
    {
      "cell_type": "code",
      "execution_count": 213,
      "metadata": {
        "id": "rc6uoz3S9RyV"
      },
      "outputs": [],
      "source": [
        "import FinanceDataReader as fdr\n",
        "\n",
        "# SOXL 데이터 불러오기\n",
        "df_soxl = fdr.DataReader('SOXL','2023-05-19')"
      ]
    },
    {
      "cell_type": "code",
      "execution_count": 214,
      "metadata": {
        "id": "u6Nt9GUU9qc1"
      },
      "outputs": [],
      "source": [
        "df_soxl['Adj Close Change %'] = df_soxl['Adj Close'].pct_change() * 100"
      ]
    },
    {
      "cell_type": "code",
      "execution_count": 215,
      "metadata": {
        "id": "g8ZyZJpg-Ago"
      },
      "outputs": [],
      "source": [
        "df_soxl['Next Adj Close'] = df_soxl['Adj Close'].shift(-1)\n",
        "df_soxl['Change Rate'] = ((df_soxl['Next Adj Close'] - df_soxl['Adj Close']) / df_soxl['Adj Close']) * 100\n"
      ]
    },
    {
      "cell_type": "markdown",
      "source": [
        "#종가 변동량을 통한 정답값 만들기"
      ],
      "metadata": {
        "id": "8F3OBH2C3Fca"
      }
    },
    {
      "cell_type": "code",
      "execution_count": 216,
      "metadata": {
        "id": "w3FVCxi4-BIR"
      },
      "outputs": [],
      "source": [
        "def trading_signal(value):\n",
        "    if value > 8:\n",
        "        return 4\n",
        "    elif value > 2:\n",
        "        return 3\n",
        "    elif value >= -2 and value <= 2:\n",
        "        return 2\n",
        "    elif value >-8:\n",
        "        return 1\n",
        "    else:\n",
        "        return 0\n",
        "\n",
        "# 'Adj Close Change %' 열에 함수 적용하여 신호 열 생성\n",
        "df_soxl['Signal'] = df_soxl['Adj Close Change %'].apply(trading_signal)"
      ]
    },
    {
      "cell_type": "markdown",
      "source": [
        "#블리쉬 변수 만들기"
      ],
      "metadata": {
        "id": "5yY1lCuo3ZIZ"
      }
    },
    {
      "cell_type": "code",
      "source": [
        "\"\"\"\n",
        "# trading_signal 함수 정의\n",
        "def trading_signal(value):\n",
        "    if value > 8:\n",
        "        return 4\n",
        "    elif value > 2:\n",
        "        return 3\n",
        "    elif value >= -2 and value <= 2:\n",
        "        return 2\n",
        "    elif value > -8:\n",
        "        return 1\n",
        "    else:\n",
        "        return 0\n",
        "\n",
        "# calculate_bullish 함수 정의\n",
        "def calculate_bullish(M_buy, M_sell):\n",
        "    bullish_index = np.log((1 + M_buy) / (1 + M_sell))\n",
        "    return bullish_index\n",
        "\n",
        "# classify_bullish_index 함수 정의\n",
        "def classify_bullish_index(bullish_index):\n",
        "    if bullish_index > 1.5:\n",
        "        return 4\n",
        "    elif bullish_index > 0.5:\n",
        "        return 3\n",
        "    elif bullish_index > -0.5:\n",
        "        return 2\n",
        "    elif bullish_index > -1.5:\n",
        "        return 1\n",
        "    else:\n",
        "        return 0\n",
        "\n",
        "# 날짜 변환\n",
        "df['Date'] = pd.to_datetime(df['Date'])\n",
        "\n",
        "# 기준 날짜 설정\n",
        "cutoff_date = datetime.datetime(2024, 1, 19)\n",
        "\n",
        "df['signal'] = np.nan\n",
        "\n",
        "\n",
        "\n",
        "# 기준 날짜 이후에는 calculate_bullish 및 classify_bullish_index 함수 사용\n",
        "for idx, row in df.iterrows():\n",
        "    if row['Date'] > cutoff_date:\n",
        "        # 매수 및 매도 신호의 수 계산\n",
        "        M_buy = (df[(df['Date'] == row['Date'])]['head_label'] == 1).sum() + (df[(df['Date'] == row['Date'])]['Text_label'] == 1).sum()\n",
        "        M_sell = (df[(df['Date'] == row['Date'])]['head_label'] == -1).sum() + (df[(df['Date'] == row['Date'])]['Text_label'] == -1).sum()\n",
        "\n",
        "        bullish_index = calculate_bullish(M_buy, M_sell)\n",
        "        df.at[idx, 'signal'] = classify_bullish_index(bullish_index)\n",
        "\n",
        "\"\"\"\n"
      ],
      "metadata": {
        "id": "QcxvWQR1I0Ip",
        "colab": {
          "base_uri": "https://localhost:8080/",
          "height": 91
        },
        "outputId": "4829f573-4dc1-431f-860e-472398ce95a1"
      },
      "execution_count": 217,
      "outputs": [
        {
          "output_type": "execute_result",
          "data": {
            "text/plain": [
              "\"\\n# trading_signal 함수 정의\\ndef trading_signal(value):\\n    if value > 8:\\n        return 4\\n    elif value > 2:\\n        return 3\\n    elif value >= -2 and value <= 2:\\n        return 2\\n    elif value > -8:\\n        return 1\\n    else:\\n        return 0\\n\\n# calculate_bullish 함수 정의\\ndef calculate_bullish(M_buy, M_sell):\\n    bullish_index = np.log((1 + M_buy) / (1 + M_sell))\\n    return bullish_index\\n\\n# classify_bullish_index 함수 정의\\ndef classify_bullish_index(bullish_index):\\n    if bullish_index > 1.5:\\n        return 4\\n    elif bullish_index > 0.5:\\n        return 3\\n    elif bullish_index > -0.5:\\n        return 2\\n    elif bullish_index > -1.5:\\n        return 1\\n    else:\\n        return 0\\n\\n# 날짜 변환\\ndf['Date'] = pd.to_datetime(df['Date'])\\n\\n# 기준 날짜 설정\\ncutoff_date = datetime.datetime(2024, 1, 19)\\n\\ndf['signal'] = np.nan\\n\\n\\n\\n# 기준 날짜 이후에는 calculate_bullish 및 classify_bullish_index 함수 사용\\nfor idx, row in df.iterrows():\\n    if row['Date'] > cutoff_date:\\n        # 매수 및 매도 신호의 수 계산\\n        M_buy = (df[(df['Date'] == row['Date'])]['head_label'] == 1).sum() + (df[(df['Date'] == row['Date'])]['Text_label'] == 1).sum()\\n        M_sell = (df[(df['Date'] == row['Date'])]['head_label'] == -1).sum() + (df[(df['Date'] == row['Date'])]['Text_label'] == -1).sum()\\n\\n        bullish_index = calculate_bullish(M_buy, M_sell)\\n        df.at[idx, 'signal'] = classify_bullish_index(bullish_index)\\n\\n\""
            ],
            "application/vnd.google.colaboratory.intrinsic+json": {
              "type": "string"
            }
          },
          "metadata": {},
          "execution_count": 217
        }
      ]
    },
    {
      "cell_type": "code",
      "execution_count": 218,
      "metadata": {
        "colab": {
          "base_uri": "https://localhost:8080/"
        },
        "id": "tOs2Z0mW-MbF",
        "outputId": "25a504f5-ae38-41ef-92d1-4cd3a3dcc036"
      },
      "outputs": [
        {
          "output_type": "execute_result",
          "data": {
            "text/plain": [
              "array([0, 2, 1, 4, 3])"
            ]
          },
          "metadata": {},
          "execution_count": 218
        }
      ],
      "source": [
        "df_soxl.Signal.unique()"
      ]
    },
    {
      "cell_type": "code",
      "execution_count": 219,
      "metadata": {
        "id": "dfPMVw5fEiIq"
      },
      "outputs": [],
      "source": [
        "df_soxl.rename(columns=lambda x: 'soxl_' + x if x != 'Date' else x, inplace=True)"
      ]
    },
    {
      "cell_type": "code",
      "source": [
        "\n",
        "df_soxl['soxl_next_Signal'] = df_soxl['soxl_Signal'].shift(1)"
      ],
      "metadata": {
        "id": "fjOxl6hIRwEq"
      },
      "execution_count": 220,
      "outputs": []
    },
    {
      "cell_type": "code",
      "execution_count": 221,
      "metadata": {
        "colab": {
          "base_uri": "https://localhost:8080/",
          "height": 238
        },
        "id": "-VfysssXAHcR",
        "outputId": "86fe7ecc-e44c-4f34-8cd0-4164417122f4"
      },
      "outputs": [
        {
          "output_type": "execute_result",
          "data": {
            "text/plain": [
              "            soxl_Open  soxl_High   soxl_Low  soxl_Close  soxl_Adj Close  \\\n",
              "Date                                                                      \n",
              "2023-05-19  17.590000  17.639999  17.059999   17.389999       17.281347   \n",
              "2023-05-22  16.920000  17.719999  16.889999   17.530001       17.420475   \n",
              "2023-05-23  17.200001  17.549999  16.790001   16.920000       16.814285   \n",
              "2023-05-24  15.890000  16.230000  15.490000   16.030001       15.929845   \n",
              "2023-05-25  18.160000  19.389999  17.629999   19.150000       19.030352   \n",
              "\n",
              "            soxl_Volume  soxl_Adj Close Change %  soxl_Next Adj Close  \\\n",
              "Date                                                                    \n",
              "2023-05-19     49381700                      NaN            17.420475   \n",
              "2023-05-22     43944400                 0.805076            16.814285   \n",
              "2023-05-23     41287200                -3.479756            15.929845   \n",
              "2023-05-24     87475800                -5.260051            19.030352   \n",
              "2023-05-25    124768700                19.463510            22.737047   \n",
              "\n",
              "            soxl_Change Rate  soxl_Signal  soxl_next_Signal  \n",
              "Date                                                         \n",
              "2023-05-19          0.805076            0               NaN  \n",
              "2023-05-22         -3.479756            2               0.0  \n",
              "2023-05-23         -5.260051            1               2.0  \n",
              "2023-05-24         19.463510            1               1.0  \n",
              "2023-05-25         19.477806            4               1.0  "
            ],
            "text/html": [
              "\n",
              "  <div id=\"df-91f25fbf-7e8e-4066-8d1f-52a7311d5357\" class=\"colab-df-container\">\n",
              "    <div>\n",
              "<style scoped>\n",
              "    .dataframe tbody tr th:only-of-type {\n",
              "        vertical-align: middle;\n",
              "    }\n",
              "\n",
              "    .dataframe tbody tr th {\n",
              "        vertical-align: top;\n",
              "    }\n",
              "\n",
              "    .dataframe thead th {\n",
              "        text-align: right;\n",
              "    }\n",
              "</style>\n",
              "<table border=\"1\" class=\"dataframe\">\n",
              "  <thead>\n",
              "    <tr style=\"text-align: right;\">\n",
              "      <th></th>\n",
              "      <th>soxl_Open</th>\n",
              "      <th>soxl_High</th>\n",
              "      <th>soxl_Low</th>\n",
              "      <th>soxl_Close</th>\n",
              "      <th>soxl_Adj Close</th>\n",
              "      <th>soxl_Volume</th>\n",
              "      <th>soxl_Adj Close Change %</th>\n",
              "      <th>soxl_Next Adj Close</th>\n",
              "      <th>soxl_Change Rate</th>\n",
              "      <th>soxl_Signal</th>\n",
              "      <th>soxl_next_Signal</th>\n",
              "    </tr>\n",
              "    <tr>\n",
              "      <th>Date</th>\n",
              "      <th></th>\n",
              "      <th></th>\n",
              "      <th></th>\n",
              "      <th></th>\n",
              "      <th></th>\n",
              "      <th></th>\n",
              "      <th></th>\n",
              "      <th></th>\n",
              "      <th></th>\n",
              "      <th></th>\n",
              "      <th></th>\n",
              "    </tr>\n",
              "  </thead>\n",
              "  <tbody>\n",
              "    <tr>\n",
              "      <th>2023-05-19</th>\n",
              "      <td>17.590000</td>\n",
              "      <td>17.639999</td>\n",
              "      <td>17.059999</td>\n",
              "      <td>17.389999</td>\n",
              "      <td>17.281347</td>\n",
              "      <td>49381700</td>\n",
              "      <td>NaN</td>\n",
              "      <td>17.420475</td>\n",
              "      <td>0.805076</td>\n",
              "      <td>0</td>\n",
              "      <td>NaN</td>\n",
              "    </tr>\n",
              "    <tr>\n",
              "      <th>2023-05-22</th>\n",
              "      <td>16.920000</td>\n",
              "      <td>17.719999</td>\n",
              "      <td>16.889999</td>\n",
              "      <td>17.530001</td>\n",
              "      <td>17.420475</td>\n",
              "      <td>43944400</td>\n",
              "      <td>0.805076</td>\n",
              "      <td>16.814285</td>\n",
              "      <td>-3.479756</td>\n",
              "      <td>2</td>\n",
              "      <td>0.0</td>\n",
              "    </tr>\n",
              "    <tr>\n",
              "      <th>2023-05-23</th>\n",
              "      <td>17.200001</td>\n",
              "      <td>17.549999</td>\n",
              "      <td>16.790001</td>\n",
              "      <td>16.920000</td>\n",
              "      <td>16.814285</td>\n",
              "      <td>41287200</td>\n",
              "      <td>-3.479756</td>\n",
              "      <td>15.929845</td>\n",
              "      <td>-5.260051</td>\n",
              "      <td>1</td>\n",
              "      <td>2.0</td>\n",
              "    </tr>\n",
              "    <tr>\n",
              "      <th>2023-05-24</th>\n",
              "      <td>15.890000</td>\n",
              "      <td>16.230000</td>\n",
              "      <td>15.490000</td>\n",
              "      <td>16.030001</td>\n",
              "      <td>15.929845</td>\n",
              "      <td>87475800</td>\n",
              "      <td>-5.260051</td>\n",
              "      <td>19.030352</td>\n",
              "      <td>19.463510</td>\n",
              "      <td>1</td>\n",
              "      <td>1.0</td>\n",
              "    </tr>\n",
              "    <tr>\n",
              "      <th>2023-05-25</th>\n",
              "      <td>18.160000</td>\n",
              "      <td>19.389999</td>\n",
              "      <td>17.629999</td>\n",
              "      <td>19.150000</td>\n",
              "      <td>19.030352</td>\n",
              "      <td>124768700</td>\n",
              "      <td>19.463510</td>\n",
              "      <td>22.737047</td>\n",
              "      <td>19.477806</td>\n",
              "      <td>4</td>\n",
              "      <td>1.0</td>\n",
              "    </tr>\n",
              "  </tbody>\n",
              "</table>\n",
              "</div>\n",
              "    <div class=\"colab-df-buttons\">\n",
              "\n",
              "  <div class=\"colab-df-container\">\n",
              "    <button class=\"colab-df-convert\" onclick=\"convertToInteractive('df-91f25fbf-7e8e-4066-8d1f-52a7311d5357')\"\n",
              "            title=\"Convert this dataframe to an interactive table.\"\n",
              "            style=\"display:none;\">\n",
              "\n",
              "  <svg xmlns=\"http://www.w3.org/2000/svg\" height=\"24px\" viewBox=\"0 -960 960 960\">\n",
              "    <path d=\"M120-120v-720h720v720H120Zm60-500h600v-160H180v160Zm220 220h160v-160H400v160Zm0 220h160v-160H400v160ZM180-400h160v-160H180v160Zm440 0h160v-160H620v160ZM180-180h160v-160H180v160Zm440 0h160v-160H620v160Z\"/>\n",
              "  </svg>\n",
              "    </button>\n",
              "\n",
              "  <style>\n",
              "    .colab-df-container {\n",
              "      display:flex;\n",
              "      gap: 12px;\n",
              "    }\n",
              "\n",
              "    .colab-df-convert {\n",
              "      background-color: #E8F0FE;\n",
              "      border: none;\n",
              "      border-radius: 50%;\n",
              "      cursor: pointer;\n",
              "      display: none;\n",
              "      fill: #1967D2;\n",
              "      height: 32px;\n",
              "      padding: 0 0 0 0;\n",
              "      width: 32px;\n",
              "    }\n",
              "\n",
              "    .colab-df-convert:hover {\n",
              "      background-color: #E2EBFA;\n",
              "      box-shadow: 0px 1px 2px rgba(60, 64, 67, 0.3), 0px 1px 3px 1px rgba(60, 64, 67, 0.15);\n",
              "      fill: #174EA6;\n",
              "    }\n",
              "\n",
              "    .colab-df-buttons div {\n",
              "      margin-bottom: 4px;\n",
              "    }\n",
              "\n",
              "    [theme=dark] .colab-df-convert {\n",
              "      background-color: #3B4455;\n",
              "      fill: #D2E3FC;\n",
              "    }\n",
              "\n",
              "    [theme=dark] .colab-df-convert:hover {\n",
              "      background-color: #434B5C;\n",
              "      box-shadow: 0px 1px 3px 1px rgba(0, 0, 0, 0.15);\n",
              "      filter: drop-shadow(0px 1px 2px rgba(0, 0, 0, 0.3));\n",
              "      fill: #FFFFFF;\n",
              "    }\n",
              "  </style>\n",
              "\n",
              "    <script>\n",
              "      const buttonEl =\n",
              "        document.querySelector('#df-91f25fbf-7e8e-4066-8d1f-52a7311d5357 button.colab-df-convert');\n",
              "      buttonEl.style.display =\n",
              "        google.colab.kernel.accessAllowed ? 'block' : 'none';\n",
              "\n",
              "      async function convertToInteractive(key) {\n",
              "        const element = document.querySelector('#df-91f25fbf-7e8e-4066-8d1f-52a7311d5357');\n",
              "        const dataTable =\n",
              "          await google.colab.kernel.invokeFunction('convertToInteractive',\n",
              "                                                    [key], {});\n",
              "        if (!dataTable) return;\n",
              "\n",
              "        const docLinkHtml = 'Like what you see? Visit the ' +\n",
              "          '<a target=\"_blank\" href=https://colab.research.google.com/notebooks/data_table.ipynb>data table notebook</a>'\n",
              "          + ' to learn more about interactive tables.';\n",
              "        element.innerHTML = '';\n",
              "        dataTable['output_type'] = 'display_data';\n",
              "        await google.colab.output.renderOutput(dataTable, element);\n",
              "        const docLink = document.createElement('div');\n",
              "        docLink.innerHTML = docLinkHtml;\n",
              "        element.appendChild(docLink);\n",
              "      }\n",
              "    </script>\n",
              "  </div>\n",
              "\n",
              "\n",
              "<div id=\"df-3047048d-075b-46e2-bd0d-4a05d1aa9b49\">\n",
              "  <button class=\"colab-df-quickchart\" onclick=\"quickchart('df-3047048d-075b-46e2-bd0d-4a05d1aa9b49')\"\n",
              "            title=\"Suggest charts\"\n",
              "            style=\"display:none;\">\n",
              "\n",
              "<svg xmlns=\"http://www.w3.org/2000/svg\" height=\"24px\"viewBox=\"0 0 24 24\"\n",
              "     width=\"24px\">\n",
              "    <g>\n",
              "        <path d=\"M19 3H5c-1.1 0-2 .9-2 2v14c0 1.1.9 2 2 2h14c1.1 0 2-.9 2-2V5c0-1.1-.9-2-2-2zM9 17H7v-7h2v7zm4 0h-2V7h2v10zm4 0h-2v-4h2v4z\"/>\n",
              "    </g>\n",
              "</svg>\n",
              "  </button>\n",
              "\n",
              "<style>\n",
              "  .colab-df-quickchart {\n",
              "      --bg-color: #E8F0FE;\n",
              "      --fill-color: #1967D2;\n",
              "      --hover-bg-color: #E2EBFA;\n",
              "      --hover-fill-color: #174EA6;\n",
              "      --disabled-fill-color: #AAA;\n",
              "      --disabled-bg-color: #DDD;\n",
              "  }\n",
              "\n",
              "  [theme=dark] .colab-df-quickchart {\n",
              "      --bg-color: #3B4455;\n",
              "      --fill-color: #D2E3FC;\n",
              "      --hover-bg-color: #434B5C;\n",
              "      --hover-fill-color: #FFFFFF;\n",
              "      --disabled-bg-color: #3B4455;\n",
              "      --disabled-fill-color: #666;\n",
              "  }\n",
              "\n",
              "  .colab-df-quickchart {\n",
              "    background-color: var(--bg-color);\n",
              "    border: none;\n",
              "    border-radius: 50%;\n",
              "    cursor: pointer;\n",
              "    display: none;\n",
              "    fill: var(--fill-color);\n",
              "    height: 32px;\n",
              "    padding: 0;\n",
              "    width: 32px;\n",
              "  }\n",
              "\n",
              "  .colab-df-quickchart:hover {\n",
              "    background-color: var(--hover-bg-color);\n",
              "    box-shadow: 0 1px 2px rgba(60, 64, 67, 0.3), 0 1px 3px 1px rgba(60, 64, 67, 0.15);\n",
              "    fill: var(--button-hover-fill-color);\n",
              "  }\n",
              "\n",
              "  .colab-df-quickchart-complete:disabled,\n",
              "  .colab-df-quickchart-complete:disabled:hover {\n",
              "    background-color: var(--disabled-bg-color);\n",
              "    fill: var(--disabled-fill-color);\n",
              "    box-shadow: none;\n",
              "  }\n",
              "\n",
              "  .colab-df-spinner {\n",
              "    border: 2px solid var(--fill-color);\n",
              "    border-color: transparent;\n",
              "    border-bottom-color: var(--fill-color);\n",
              "    animation:\n",
              "      spin 1s steps(1) infinite;\n",
              "  }\n",
              "\n",
              "  @keyframes spin {\n",
              "    0% {\n",
              "      border-color: transparent;\n",
              "      border-bottom-color: var(--fill-color);\n",
              "      border-left-color: var(--fill-color);\n",
              "    }\n",
              "    20% {\n",
              "      border-color: transparent;\n",
              "      border-left-color: var(--fill-color);\n",
              "      border-top-color: var(--fill-color);\n",
              "    }\n",
              "    30% {\n",
              "      border-color: transparent;\n",
              "      border-left-color: var(--fill-color);\n",
              "      border-top-color: var(--fill-color);\n",
              "      border-right-color: var(--fill-color);\n",
              "    }\n",
              "    40% {\n",
              "      border-color: transparent;\n",
              "      border-right-color: var(--fill-color);\n",
              "      border-top-color: var(--fill-color);\n",
              "    }\n",
              "    60% {\n",
              "      border-color: transparent;\n",
              "      border-right-color: var(--fill-color);\n",
              "    }\n",
              "    80% {\n",
              "      border-color: transparent;\n",
              "      border-right-color: var(--fill-color);\n",
              "      border-bottom-color: var(--fill-color);\n",
              "    }\n",
              "    90% {\n",
              "      border-color: transparent;\n",
              "      border-bottom-color: var(--fill-color);\n",
              "    }\n",
              "  }\n",
              "</style>\n",
              "\n",
              "  <script>\n",
              "    async function quickchart(key) {\n",
              "      const quickchartButtonEl =\n",
              "        document.querySelector('#' + key + ' button');\n",
              "      quickchartButtonEl.disabled = true;  // To prevent multiple clicks.\n",
              "      quickchartButtonEl.classList.add('colab-df-spinner');\n",
              "      try {\n",
              "        const charts = await google.colab.kernel.invokeFunction(\n",
              "            'suggestCharts', [key], {});\n",
              "      } catch (error) {\n",
              "        console.error('Error during call to suggestCharts:', error);\n",
              "      }\n",
              "      quickchartButtonEl.classList.remove('colab-df-spinner');\n",
              "      quickchartButtonEl.classList.add('colab-df-quickchart-complete');\n",
              "    }\n",
              "    (() => {\n",
              "      let quickchartButtonEl =\n",
              "        document.querySelector('#df-3047048d-075b-46e2-bd0d-4a05d1aa9b49 button');\n",
              "      quickchartButtonEl.style.display =\n",
              "        google.colab.kernel.accessAllowed ? 'block' : 'none';\n",
              "    })();\n",
              "  </script>\n",
              "</div>\n",
              "\n",
              "    </div>\n",
              "  </div>\n"
            ],
            "application/vnd.google.colaboratory.intrinsic+json": {
              "type": "dataframe",
              "variable_name": "df_soxl",
              "summary": "{\n  \"name\": \"df_soxl\",\n  \"rows\": 259,\n  \"fields\": [\n    {\n      \"column\": \"Date\",\n      \"properties\": {\n        \"dtype\": \"date\",\n        \"min\": \"2023-05-19 00:00:00\",\n        \"max\": \"2024-05-30 00:00:00\",\n        \"num_unique_values\": 259,\n        \"samples\": [\n          \"2023-08-24 00:00:00\",\n          \"2023-07-26 00:00:00\",\n          \"2023-06-02 00:00:00\"\n        ],\n        \"semantic_type\": \"\",\n        \"description\": \"\"\n      }\n    },\n    {\n      \"column\": \"soxl_Open\",\n      \"properties\": {\n        \"dtype\": \"number\",\n        \"std\": 10.193287814308984,\n        \"min\": 14.54,\n        \"max\": 55.939999,\n        \"num_unique_values\": 249,\n        \"samples\": [\n          28.620001,\n          24.57,\n          19.129999\n        ],\n        \"semantic_type\": \"\",\n        \"description\": \"\"\n      }\n    },\n    {\n      \"column\": \"soxl_High\",\n      \"properties\": {\n        \"dtype\": \"number\",\n        \"std\": 10.46798073671839,\n        \"min\": 15.03,\n        \"max\": 56.990002,\n        \"num_unique_values\": 246,\n        \"samples\": [\n          25.85,\n          24.799999,\n          41.799999\n        ],\n        \"semantic_type\": \"\",\n        \"description\": \"\"\n      }\n    },\n    {\n      \"column\": \"soxl_Low\",\n      \"properties\": {\n        \"dtype\": \"number\",\n        \"std\": 9.812042738372122,\n        \"min\": 14.01,\n        \"max\": 52.099998,\n        \"num_unique_values\": 249,\n        \"samples\": [\n          30.35,\n          22.59,\n          20.09\n        ],\n        \"semantic_type\": \"\",\n        \"description\": \"\"\n      }\n    },\n    {\n      \"column\": \"soxl_Close\",\n      \"properties\": {\n        \"dtype\": \"number\",\n        \"std\": 10.130969903662615,\n        \"min\": 14.53,\n        \"max\": 55.32,\n        \"num_unique_values\": 250,\n        \"samples\": [\n          30.75,\n          22.870001,\n          20.51\n        ],\n        \"semantic_type\": \"\",\n        \"description\": \"\"\n      }\n    },\n    {\n      \"column\": \"soxl_Adj Close\",\n      \"properties\": {\n        \"dtype\": \"number\",\n        \"std\": 10.160939533488737,\n        \"min\": 14.485496,\n        \"max\": 55.274483,\n        \"num_unique_values\": 256,\n        \"samples\": [\n          32.07,\n          22.72711,\n          21.547949\n        ],\n        \"semantic_type\": \"\",\n        \"description\": \"\"\n      }\n    },\n    {\n      \"column\": \"soxl_Volume\",\n      \"properties\": {\n        \"dtype\": \"number\",\n        \"std\": 18395081,\n        \"min\": 21933500,\n        \"max\": 128374500,\n        \"num_unique_values\": 259,\n        \"samples\": [\n          87095000,\n          54225500,\n          64902000\n        ],\n        \"semantic_type\": \"\",\n        \"description\": \"\"\n      }\n    },\n    {\n      \"column\": \"soxl_Adj Close Change %\",\n      \"properties\": {\n        \"dtype\": \"number\",\n        \"std\": 5.292148477778351,\n        \"min\": -12.147893106880758,\n        \"max\": 19.477805770487056,\n        \"num_unique_values\": 258,\n        \"samples\": [\n          1.2248869524268624,\n          5.586584361714242,\n          -4.7683983412987185\n        ],\n        \"semantic_type\": \"\",\n        \"description\": \"\"\n      }\n    },\n    {\n      \"column\": \"soxl_Next Adj Close\",\n      \"properties\": {\n        \"dtype\": \"number\",\n        \"std\": 10.15222548032933,\n        \"min\": 14.485496,\n        \"max\": 55.274483,\n        \"num_unique_values\": 255,\n        \"samples\": [\n          39.767254,\n          21.017855,\n          19.696716\n        ],\n        \"semantic_type\": \"\",\n        \"description\": \"\"\n      }\n    },\n    {\n      \"column\": \"soxl_Change Rate\",\n      \"properties\": {\n        \"dtype\": \"number\",\n        \"std\": 5.292148477778351,\n        \"min\": -12.147893106880755,\n        \"max\": 19.477805770487063,\n        \"num_unique_values\": 258,\n        \"samples\": [\n          1.2248869524268535,\n          5.586584361714231,\n          -4.768398341298714\n        ],\n        \"semantic_type\": \"\",\n        \"description\": \"\"\n      }\n    },\n    {\n      \"column\": \"soxl_Signal\",\n      \"properties\": {\n        \"dtype\": \"number\",\n        \"std\": 1,\n        \"min\": 0,\n        \"max\": 4,\n        \"num_unique_values\": 5,\n        \"samples\": [\n          2,\n          3,\n          1\n        ],\n        \"semantic_type\": \"\",\n        \"description\": \"\"\n      }\n    },\n    {\n      \"column\": \"soxl_next_Signal\",\n      \"properties\": {\n        \"dtype\": \"number\",\n        \"std\": 1.0280137911719291,\n        \"min\": 0.0,\n        \"max\": 4.0,\n        \"num_unique_values\": 5,\n        \"samples\": [\n          2.0,\n          3.0,\n          1.0\n        ],\n        \"semantic_type\": \"\",\n        \"description\": \"\"\n      }\n    }\n  ]\n}"
            }
          },
          "metadata": {},
          "execution_count": 221
        }
      ],
      "source": [
        "df_soxl.head()"
      ]
    },
    {
      "cell_type": "markdown",
      "source": [
        "#df와 df_soxl을 Date기준으로 함치기"
      ],
      "metadata": {
        "id": "nc8DuAXoM3Pe"
      }
    },
    {
      "cell_type": "code",
      "execution_count": 222,
      "metadata": {
        "id": "9-RurG4xDSeS"
      },
      "outputs": [],
      "source": [
        "# 겹치는 컬럼 제거\n",
        "df_soxl.drop(columns=['soxl_Adj Close Change %','soxl_Next Adj Close','soxl_Change Rate'], inplace=True)"
      ]
    },
    {
      "cell_type": "code",
      "execution_count": 223,
      "metadata": {
        "id": "MCGjpdG2BwJe"
      },
      "outputs": [],
      "source": [
        "df['Date'] = pd.to_datetime(df['Date'])"
      ]
    },
    {
      "cell_type": "code",
      "execution_count": 224,
      "metadata": {
        "colab": {
          "base_uri": "https://localhost:8080/",
          "height": 754
        },
        "id": "VdUHI1oTDdaw",
        "outputId": "33b34790-b31a-4139-ea25-9241333e4a53"
      },
      "outputs": [
        {
          "output_type": "execute_result",
          "data": {
            "text/plain": [
              "                                                    head       Date  \\\n",
              "0                                  TSMC soon to the moon 2024-04-02   \n",
              "1                                  TSMC soon to the moon 2024-04-02   \n",
              "2                                  TSMC soon to the moon 2024-04-02   \n",
              "3                                  TSMC soon to the moon 2024-04-02   \n",
              "4                                  TSMC soon to the moon 2024-04-02   \n",
              "...                                                  ...        ...   \n",
              "15634  AMDnew CPU hits 132fps in Fortnite without a g... 2024-01-29   \n",
              "15635  AMDnew CPU hits 132fps in Fortnite without a g... 2024-01-29   \n",
              "15636  AMDnew CPU hits 132fps in Fortnite without a g... 2024-01-29   \n",
              "15637  AMDnew CPU hits 132fps in Fortnite without a g... 2024-01-29   \n",
              "15638  AMDnew CPU hits 132fps in Fortnite without a g... 2024-01-29   \n",
              "\n",
              "                                                    Text  type     src  \\\n",
              "0      20% oh I remember the optimize last month....b...  TSMC  reddit   \n",
              "1      Right there with you man....that 03/08 on TSMC...  TSMC  reddit   \n",
              "2                                        We ride at dawn  TSMC  reddit   \n",
              "3      Not a prediction, but $150 could be in the sta...  TSMC  reddit   \n",
              "4      I have $197 as my next target in the big picture.  TSMC  reddit   \n",
              "...                                                  ...   ...     ...   \n",
              "15634  It is possible to run seperate processes on th...   AMD  reddit   \n",
              "15635  Can someone explain what is ment by an extra C...   AMD  reddit   \n",
              "15636  it comes with a stock cooler that keeps it coo...   AMD  reddit   \n",
              "15637          Ie just using the stock cooler in the box   AMD  reddit   \n",
              "15638                 Its all good but can it run Crysis   AMD  reddit   \n",
              "\n",
              "             Open        High         Low       Close   Adj Close  ...  \\\n",
              "0      172.350006  172.350006  169.600006  170.360001  169.140930  ...   \n",
              "1      172.350006  172.350006  169.600006  170.360001  169.140930  ...   \n",
              "2      172.350006  172.350006  169.600006  170.360001  169.140930  ...   \n",
              "3      172.350006  172.350006  169.600006  170.360001  169.140930  ...   \n",
              "4      172.350006  172.350006  169.600006  170.360001  169.140930  ...   \n",
              "...           ...         ...         ...         ...         ...  ...   \n",
              "15634  178.770004  178.889999  174.399994  177.830002  177.830002  ...   \n",
              "15635  178.770004  178.889999  174.399994  177.830002  177.830002  ...   \n",
              "15636  178.770004  178.889999  174.399994  177.830002  177.830002  ...   \n",
              "15637  178.770004  178.889999  174.399994  177.830002  177.830002  ...   \n",
              "15638  178.770004  178.889999  174.399994  177.830002  177.830002  ...   \n",
              "\n",
              "       head_label_count  Text_label_count  soxl_Open  soxl_High   soxl_Low  \\\n",
              "0                  -153               -47  45.830002  46.160000  44.380001   \n",
              "1                  -153               -47  45.830002  46.160000  44.380001   \n",
              "2                  -153               -47  45.830002  46.160000  44.380001   \n",
              "3                  -153               -47  45.830002  46.160000  44.380001   \n",
              "4                  -153               -47  45.830002  46.160000  44.380001   \n",
              "...                 ...               ...        ...        ...        ...   \n",
              "15634                26                -2  34.230000  35.130001  33.509998   \n",
              "15635                26                -2  34.230000  35.130001  33.509998   \n",
              "15636                26                -2  34.230000  35.130001  33.509998   \n",
              "15637                26                -2  34.230000  35.130001  33.509998   \n",
              "15638                26                -2  34.230000  35.130001  33.509998   \n",
              "\n",
              "       soxl_Close  soxl_Adj Close  soxl_Volume  soxl_Signal  soxl_next_Signal  \n",
              "0       45.880001       45.880001     57411500            1               3.0  \n",
              "1       45.880001       45.880001     57411500            1               3.0  \n",
              "2       45.880001       45.880001     57411500            1               3.0  \n",
              "3       45.880001       45.880001     57411500            1               3.0  \n",
              "4       45.880001       45.880001     57411500            1               3.0  \n",
              "...           ...             ...          ...          ...               ...  \n",
              "15634   35.040001       35.011169     54398800            3               0.0  \n",
              "15635   35.040001       35.011169     54398800            3               0.0  \n",
              "15636   35.040001       35.011169     54398800            3               0.0  \n",
              "15637   35.040001       35.011169     54398800            3               0.0  \n",
              "15638   35.040001       35.011169     54398800            3               0.0  \n",
              "\n",
              "[15639 rows x 31 columns]"
            ],
            "text/html": [
              "\n",
              "  <div id=\"df-d7c66aa1-6785-4bcc-82b2-0d04fb288135\" class=\"colab-df-container\">\n",
              "    <div>\n",
              "<style scoped>\n",
              "    .dataframe tbody tr th:only-of-type {\n",
              "        vertical-align: middle;\n",
              "    }\n",
              "\n",
              "    .dataframe tbody tr th {\n",
              "        vertical-align: top;\n",
              "    }\n",
              "\n",
              "    .dataframe thead th {\n",
              "        text-align: right;\n",
              "    }\n",
              "</style>\n",
              "<table border=\"1\" class=\"dataframe\">\n",
              "  <thead>\n",
              "    <tr style=\"text-align: right;\">\n",
              "      <th></th>\n",
              "      <th>head</th>\n",
              "      <th>Date</th>\n",
              "      <th>Text</th>\n",
              "      <th>type</th>\n",
              "      <th>src</th>\n",
              "      <th>Open</th>\n",
              "      <th>High</th>\n",
              "      <th>Low</th>\n",
              "      <th>Close</th>\n",
              "      <th>Adj Close</th>\n",
              "      <th>...</th>\n",
              "      <th>head_label_count</th>\n",
              "      <th>Text_label_count</th>\n",
              "      <th>soxl_Open</th>\n",
              "      <th>soxl_High</th>\n",
              "      <th>soxl_Low</th>\n",
              "      <th>soxl_Close</th>\n",
              "      <th>soxl_Adj Close</th>\n",
              "      <th>soxl_Volume</th>\n",
              "      <th>soxl_Signal</th>\n",
              "      <th>soxl_next_Signal</th>\n",
              "    </tr>\n",
              "  </thead>\n",
              "  <tbody>\n",
              "    <tr>\n",
              "      <th>0</th>\n",
              "      <td>TSMC soon to the moon</td>\n",
              "      <td>2024-04-02</td>\n",
              "      <td>20% oh I remember the optimize last month....b...</td>\n",
              "      <td>TSMC</td>\n",
              "      <td>reddit</td>\n",
              "      <td>172.350006</td>\n",
              "      <td>172.350006</td>\n",
              "      <td>169.600006</td>\n",
              "      <td>170.360001</td>\n",
              "      <td>169.140930</td>\n",
              "      <td>...</td>\n",
              "      <td>-153</td>\n",
              "      <td>-47</td>\n",
              "      <td>45.830002</td>\n",
              "      <td>46.160000</td>\n",
              "      <td>44.380001</td>\n",
              "      <td>45.880001</td>\n",
              "      <td>45.880001</td>\n",
              "      <td>57411500</td>\n",
              "      <td>1</td>\n",
              "      <td>3.0</td>\n",
              "    </tr>\n",
              "    <tr>\n",
              "      <th>1</th>\n",
              "      <td>TSMC soon to the moon</td>\n",
              "      <td>2024-04-02</td>\n",
              "      <td>Right there with you man....that 03/08 on TSMC...</td>\n",
              "      <td>TSMC</td>\n",
              "      <td>reddit</td>\n",
              "      <td>172.350006</td>\n",
              "      <td>172.350006</td>\n",
              "      <td>169.600006</td>\n",
              "      <td>170.360001</td>\n",
              "      <td>169.140930</td>\n",
              "      <td>...</td>\n",
              "      <td>-153</td>\n",
              "      <td>-47</td>\n",
              "      <td>45.830002</td>\n",
              "      <td>46.160000</td>\n",
              "      <td>44.380001</td>\n",
              "      <td>45.880001</td>\n",
              "      <td>45.880001</td>\n",
              "      <td>57411500</td>\n",
              "      <td>1</td>\n",
              "      <td>3.0</td>\n",
              "    </tr>\n",
              "    <tr>\n",
              "      <th>2</th>\n",
              "      <td>TSMC soon to the moon</td>\n",
              "      <td>2024-04-02</td>\n",
              "      <td>We ride at dawn</td>\n",
              "      <td>TSMC</td>\n",
              "      <td>reddit</td>\n",
              "      <td>172.350006</td>\n",
              "      <td>172.350006</td>\n",
              "      <td>169.600006</td>\n",
              "      <td>170.360001</td>\n",
              "      <td>169.140930</td>\n",
              "      <td>...</td>\n",
              "      <td>-153</td>\n",
              "      <td>-47</td>\n",
              "      <td>45.830002</td>\n",
              "      <td>46.160000</td>\n",
              "      <td>44.380001</td>\n",
              "      <td>45.880001</td>\n",
              "      <td>45.880001</td>\n",
              "      <td>57411500</td>\n",
              "      <td>1</td>\n",
              "      <td>3.0</td>\n",
              "    </tr>\n",
              "    <tr>\n",
              "      <th>3</th>\n",
              "      <td>TSMC soon to the moon</td>\n",
              "      <td>2024-04-02</td>\n",
              "      <td>Not a prediction, but $150 could be in the sta...</td>\n",
              "      <td>TSMC</td>\n",
              "      <td>reddit</td>\n",
              "      <td>172.350006</td>\n",
              "      <td>172.350006</td>\n",
              "      <td>169.600006</td>\n",
              "      <td>170.360001</td>\n",
              "      <td>169.140930</td>\n",
              "      <td>...</td>\n",
              "      <td>-153</td>\n",
              "      <td>-47</td>\n",
              "      <td>45.830002</td>\n",
              "      <td>46.160000</td>\n",
              "      <td>44.380001</td>\n",
              "      <td>45.880001</td>\n",
              "      <td>45.880001</td>\n",
              "      <td>57411500</td>\n",
              "      <td>1</td>\n",
              "      <td>3.0</td>\n",
              "    </tr>\n",
              "    <tr>\n",
              "      <th>4</th>\n",
              "      <td>TSMC soon to the moon</td>\n",
              "      <td>2024-04-02</td>\n",
              "      <td>I have $197 as my next target in the big picture.</td>\n",
              "      <td>TSMC</td>\n",
              "      <td>reddit</td>\n",
              "      <td>172.350006</td>\n",
              "      <td>172.350006</td>\n",
              "      <td>169.600006</td>\n",
              "      <td>170.360001</td>\n",
              "      <td>169.140930</td>\n",
              "      <td>...</td>\n",
              "      <td>-153</td>\n",
              "      <td>-47</td>\n",
              "      <td>45.830002</td>\n",
              "      <td>46.160000</td>\n",
              "      <td>44.380001</td>\n",
              "      <td>45.880001</td>\n",
              "      <td>45.880001</td>\n",
              "      <td>57411500</td>\n",
              "      <td>1</td>\n",
              "      <td>3.0</td>\n",
              "    </tr>\n",
              "    <tr>\n",
              "      <th>...</th>\n",
              "      <td>...</td>\n",
              "      <td>...</td>\n",
              "      <td>...</td>\n",
              "      <td>...</td>\n",
              "      <td>...</td>\n",
              "      <td>...</td>\n",
              "      <td>...</td>\n",
              "      <td>...</td>\n",
              "      <td>...</td>\n",
              "      <td>...</td>\n",
              "      <td>...</td>\n",
              "      <td>...</td>\n",
              "      <td>...</td>\n",
              "      <td>...</td>\n",
              "      <td>...</td>\n",
              "      <td>...</td>\n",
              "      <td>...</td>\n",
              "      <td>...</td>\n",
              "      <td>...</td>\n",
              "      <td>...</td>\n",
              "      <td>...</td>\n",
              "    </tr>\n",
              "    <tr>\n",
              "      <th>15634</th>\n",
              "      <td>AMDnew CPU hits 132fps in Fortnite without a g...</td>\n",
              "      <td>2024-01-29</td>\n",
              "      <td>It is possible to run seperate processes on th...</td>\n",
              "      <td>AMD</td>\n",
              "      <td>reddit</td>\n",
              "      <td>178.770004</td>\n",
              "      <td>178.889999</td>\n",
              "      <td>174.399994</td>\n",
              "      <td>177.830002</td>\n",
              "      <td>177.830002</td>\n",
              "      <td>...</td>\n",
              "      <td>26</td>\n",
              "      <td>-2</td>\n",
              "      <td>34.230000</td>\n",
              "      <td>35.130001</td>\n",
              "      <td>33.509998</td>\n",
              "      <td>35.040001</td>\n",
              "      <td>35.011169</td>\n",
              "      <td>54398800</td>\n",
              "      <td>3</td>\n",
              "      <td>0.0</td>\n",
              "    </tr>\n",
              "    <tr>\n",
              "      <th>15635</th>\n",
              "      <td>AMDnew CPU hits 132fps in Fortnite without a g...</td>\n",
              "      <td>2024-01-29</td>\n",
              "      <td>Can someone explain what is ment by an extra C...</td>\n",
              "      <td>AMD</td>\n",
              "      <td>reddit</td>\n",
              "      <td>178.770004</td>\n",
              "      <td>178.889999</td>\n",
              "      <td>174.399994</td>\n",
              "      <td>177.830002</td>\n",
              "      <td>177.830002</td>\n",
              "      <td>...</td>\n",
              "      <td>26</td>\n",
              "      <td>-2</td>\n",
              "      <td>34.230000</td>\n",
              "      <td>35.130001</td>\n",
              "      <td>33.509998</td>\n",
              "      <td>35.040001</td>\n",
              "      <td>35.011169</td>\n",
              "      <td>54398800</td>\n",
              "      <td>3</td>\n",
              "      <td>0.0</td>\n",
              "    </tr>\n",
              "    <tr>\n",
              "      <th>15636</th>\n",
              "      <td>AMDnew CPU hits 132fps in Fortnite without a g...</td>\n",
              "      <td>2024-01-29</td>\n",
              "      <td>it comes with a stock cooler that keeps it coo...</td>\n",
              "      <td>AMD</td>\n",
              "      <td>reddit</td>\n",
              "      <td>178.770004</td>\n",
              "      <td>178.889999</td>\n",
              "      <td>174.399994</td>\n",
              "      <td>177.830002</td>\n",
              "      <td>177.830002</td>\n",
              "      <td>...</td>\n",
              "      <td>26</td>\n",
              "      <td>-2</td>\n",
              "      <td>34.230000</td>\n",
              "      <td>35.130001</td>\n",
              "      <td>33.509998</td>\n",
              "      <td>35.040001</td>\n",
              "      <td>35.011169</td>\n",
              "      <td>54398800</td>\n",
              "      <td>3</td>\n",
              "      <td>0.0</td>\n",
              "    </tr>\n",
              "    <tr>\n",
              "      <th>15637</th>\n",
              "      <td>AMDnew CPU hits 132fps in Fortnite without a g...</td>\n",
              "      <td>2024-01-29</td>\n",
              "      <td>Ie just using the stock cooler in the box</td>\n",
              "      <td>AMD</td>\n",
              "      <td>reddit</td>\n",
              "      <td>178.770004</td>\n",
              "      <td>178.889999</td>\n",
              "      <td>174.399994</td>\n",
              "      <td>177.830002</td>\n",
              "      <td>177.830002</td>\n",
              "      <td>...</td>\n",
              "      <td>26</td>\n",
              "      <td>-2</td>\n",
              "      <td>34.230000</td>\n",
              "      <td>35.130001</td>\n",
              "      <td>33.509998</td>\n",
              "      <td>35.040001</td>\n",
              "      <td>35.011169</td>\n",
              "      <td>54398800</td>\n",
              "      <td>3</td>\n",
              "      <td>0.0</td>\n",
              "    </tr>\n",
              "    <tr>\n",
              "      <th>15638</th>\n",
              "      <td>AMDnew CPU hits 132fps in Fortnite without a g...</td>\n",
              "      <td>2024-01-29</td>\n",
              "      <td>Its all good but can it run Crysis</td>\n",
              "      <td>AMD</td>\n",
              "      <td>reddit</td>\n",
              "      <td>178.770004</td>\n",
              "      <td>178.889999</td>\n",
              "      <td>174.399994</td>\n",
              "      <td>177.830002</td>\n",
              "      <td>177.830002</td>\n",
              "      <td>...</td>\n",
              "      <td>26</td>\n",
              "      <td>-2</td>\n",
              "      <td>34.230000</td>\n",
              "      <td>35.130001</td>\n",
              "      <td>33.509998</td>\n",
              "      <td>35.040001</td>\n",
              "      <td>35.011169</td>\n",
              "      <td>54398800</td>\n",
              "      <td>3</td>\n",
              "      <td>0.0</td>\n",
              "    </tr>\n",
              "  </tbody>\n",
              "</table>\n",
              "<p>15639 rows × 31 columns</p>\n",
              "</div>\n",
              "    <div class=\"colab-df-buttons\">\n",
              "\n",
              "  <div class=\"colab-df-container\">\n",
              "    <button class=\"colab-df-convert\" onclick=\"convertToInteractive('df-d7c66aa1-6785-4bcc-82b2-0d04fb288135')\"\n",
              "            title=\"Convert this dataframe to an interactive table.\"\n",
              "            style=\"display:none;\">\n",
              "\n",
              "  <svg xmlns=\"http://www.w3.org/2000/svg\" height=\"24px\" viewBox=\"0 -960 960 960\">\n",
              "    <path d=\"M120-120v-720h720v720H120Zm60-500h600v-160H180v160Zm220 220h160v-160H400v160Zm0 220h160v-160H400v160ZM180-400h160v-160H180v160Zm440 0h160v-160H620v160ZM180-180h160v-160H180v160Zm440 0h160v-160H620v160Z\"/>\n",
              "  </svg>\n",
              "    </button>\n",
              "\n",
              "  <style>\n",
              "    .colab-df-container {\n",
              "      display:flex;\n",
              "      gap: 12px;\n",
              "    }\n",
              "\n",
              "    .colab-df-convert {\n",
              "      background-color: #E8F0FE;\n",
              "      border: none;\n",
              "      border-radius: 50%;\n",
              "      cursor: pointer;\n",
              "      display: none;\n",
              "      fill: #1967D2;\n",
              "      height: 32px;\n",
              "      padding: 0 0 0 0;\n",
              "      width: 32px;\n",
              "    }\n",
              "\n",
              "    .colab-df-convert:hover {\n",
              "      background-color: #E2EBFA;\n",
              "      box-shadow: 0px 1px 2px rgba(60, 64, 67, 0.3), 0px 1px 3px 1px rgba(60, 64, 67, 0.15);\n",
              "      fill: #174EA6;\n",
              "    }\n",
              "\n",
              "    .colab-df-buttons div {\n",
              "      margin-bottom: 4px;\n",
              "    }\n",
              "\n",
              "    [theme=dark] .colab-df-convert {\n",
              "      background-color: #3B4455;\n",
              "      fill: #D2E3FC;\n",
              "    }\n",
              "\n",
              "    [theme=dark] .colab-df-convert:hover {\n",
              "      background-color: #434B5C;\n",
              "      box-shadow: 0px 1px 3px 1px rgba(0, 0, 0, 0.15);\n",
              "      filter: drop-shadow(0px 1px 2px rgba(0, 0, 0, 0.3));\n",
              "      fill: #FFFFFF;\n",
              "    }\n",
              "  </style>\n",
              "\n",
              "    <script>\n",
              "      const buttonEl =\n",
              "        document.querySelector('#df-d7c66aa1-6785-4bcc-82b2-0d04fb288135 button.colab-df-convert');\n",
              "      buttonEl.style.display =\n",
              "        google.colab.kernel.accessAllowed ? 'block' : 'none';\n",
              "\n",
              "      async function convertToInteractive(key) {\n",
              "        const element = document.querySelector('#df-d7c66aa1-6785-4bcc-82b2-0d04fb288135');\n",
              "        const dataTable =\n",
              "          await google.colab.kernel.invokeFunction('convertToInteractive',\n",
              "                                                    [key], {});\n",
              "        if (!dataTable) return;\n",
              "\n",
              "        const docLinkHtml = 'Like what you see? Visit the ' +\n",
              "          '<a target=\"_blank\" href=https://colab.research.google.com/notebooks/data_table.ipynb>data table notebook</a>'\n",
              "          + ' to learn more about interactive tables.';\n",
              "        element.innerHTML = '';\n",
              "        dataTable['output_type'] = 'display_data';\n",
              "        await google.colab.output.renderOutput(dataTable, element);\n",
              "        const docLink = document.createElement('div');\n",
              "        docLink.innerHTML = docLinkHtml;\n",
              "        element.appendChild(docLink);\n",
              "      }\n",
              "    </script>\n",
              "  </div>\n",
              "\n",
              "\n",
              "<div id=\"df-cf638b34-171c-4e36-b413-07c35b808cef\">\n",
              "  <button class=\"colab-df-quickchart\" onclick=\"quickchart('df-cf638b34-171c-4e36-b413-07c35b808cef')\"\n",
              "            title=\"Suggest charts\"\n",
              "            style=\"display:none;\">\n",
              "\n",
              "<svg xmlns=\"http://www.w3.org/2000/svg\" height=\"24px\"viewBox=\"0 0 24 24\"\n",
              "     width=\"24px\">\n",
              "    <g>\n",
              "        <path d=\"M19 3H5c-1.1 0-2 .9-2 2v14c0 1.1.9 2 2 2h14c1.1 0 2-.9 2-2V5c0-1.1-.9-2-2-2zM9 17H7v-7h2v7zm4 0h-2V7h2v10zm4 0h-2v-4h2v4z\"/>\n",
              "    </g>\n",
              "</svg>\n",
              "  </button>\n",
              "\n",
              "<style>\n",
              "  .colab-df-quickchart {\n",
              "      --bg-color: #E8F0FE;\n",
              "      --fill-color: #1967D2;\n",
              "      --hover-bg-color: #E2EBFA;\n",
              "      --hover-fill-color: #174EA6;\n",
              "      --disabled-fill-color: #AAA;\n",
              "      --disabled-bg-color: #DDD;\n",
              "  }\n",
              "\n",
              "  [theme=dark] .colab-df-quickchart {\n",
              "      --bg-color: #3B4455;\n",
              "      --fill-color: #D2E3FC;\n",
              "      --hover-bg-color: #434B5C;\n",
              "      --hover-fill-color: #FFFFFF;\n",
              "      --disabled-bg-color: #3B4455;\n",
              "      --disabled-fill-color: #666;\n",
              "  }\n",
              "\n",
              "  .colab-df-quickchart {\n",
              "    background-color: var(--bg-color);\n",
              "    border: none;\n",
              "    border-radius: 50%;\n",
              "    cursor: pointer;\n",
              "    display: none;\n",
              "    fill: var(--fill-color);\n",
              "    height: 32px;\n",
              "    padding: 0;\n",
              "    width: 32px;\n",
              "  }\n",
              "\n",
              "  .colab-df-quickchart:hover {\n",
              "    background-color: var(--hover-bg-color);\n",
              "    box-shadow: 0 1px 2px rgba(60, 64, 67, 0.3), 0 1px 3px 1px rgba(60, 64, 67, 0.15);\n",
              "    fill: var(--button-hover-fill-color);\n",
              "  }\n",
              "\n",
              "  .colab-df-quickchart-complete:disabled,\n",
              "  .colab-df-quickchart-complete:disabled:hover {\n",
              "    background-color: var(--disabled-bg-color);\n",
              "    fill: var(--disabled-fill-color);\n",
              "    box-shadow: none;\n",
              "  }\n",
              "\n",
              "  .colab-df-spinner {\n",
              "    border: 2px solid var(--fill-color);\n",
              "    border-color: transparent;\n",
              "    border-bottom-color: var(--fill-color);\n",
              "    animation:\n",
              "      spin 1s steps(1) infinite;\n",
              "  }\n",
              "\n",
              "  @keyframes spin {\n",
              "    0% {\n",
              "      border-color: transparent;\n",
              "      border-bottom-color: var(--fill-color);\n",
              "      border-left-color: var(--fill-color);\n",
              "    }\n",
              "    20% {\n",
              "      border-color: transparent;\n",
              "      border-left-color: var(--fill-color);\n",
              "      border-top-color: var(--fill-color);\n",
              "    }\n",
              "    30% {\n",
              "      border-color: transparent;\n",
              "      border-left-color: var(--fill-color);\n",
              "      border-top-color: var(--fill-color);\n",
              "      border-right-color: var(--fill-color);\n",
              "    }\n",
              "    40% {\n",
              "      border-color: transparent;\n",
              "      border-right-color: var(--fill-color);\n",
              "      border-top-color: var(--fill-color);\n",
              "    }\n",
              "    60% {\n",
              "      border-color: transparent;\n",
              "      border-right-color: var(--fill-color);\n",
              "    }\n",
              "    80% {\n",
              "      border-color: transparent;\n",
              "      border-right-color: var(--fill-color);\n",
              "      border-bottom-color: var(--fill-color);\n",
              "    }\n",
              "    90% {\n",
              "      border-color: transparent;\n",
              "      border-bottom-color: var(--fill-color);\n",
              "    }\n",
              "  }\n",
              "</style>\n",
              "\n",
              "  <script>\n",
              "    async function quickchart(key) {\n",
              "      const quickchartButtonEl =\n",
              "        document.querySelector('#' + key + ' button');\n",
              "      quickchartButtonEl.disabled = true;  // To prevent multiple clicks.\n",
              "      quickchartButtonEl.classList.add('colab-df-spinner');\n",
              "      try {\n",
              "        const charts = await google.colab.kernel.invokeFunction(\n",
              "            'suggestCharts', [key], {});\n",
              "      } catch (error) {\n",
              "        console.error('Error during call to suggestCharts:', error);\n",
              "      }\n",
              "      quickchartButtonEl.classList.remove('colab-df-spinner');\n",
              "      quickchartButtonEl.classList.add('colab-df-quickchart-complete');\n",
              "    }\n",
              "    (() => {\n",
              "      let quickchartButtonEl =\n",
              "        document.querySelector('#df-cf638b34-171c-4e36-b413-07c35b808cef button');\n",
              "      quickchartButtonEl.style.display =\n",
              "        google.colab.kernel.accessAllowed ? 'block' : 'none';\n",
              "    })();\n",
              "  </script>\n",
              "</div>\n",
              "\n",
              "  <div id=\"id_8cb489a6-e511-49fc-b381-d48fc65281cd\">\n",
              "    <style>\n",
              "      .colab-df-generate {\n",
              "        background-color: #E8F0FE;\n",
              "        border: none;\n",
              "        border-radius: 50%;\n",
              "        cursor: pointer;\n",
              "        display: none;\n",
              "        fill: #1967D2;\n",
              "        height: 32px;\n",
              "        padding: 0 0 0 0;\n",
              "        width: 32px;\n",
              "      }\n",
              "\n",
              "      .colab-df-generate:hover {\n",
              "        background-color: #E2EBFA;\n",
              "        box-shadow: 0px 1px 2px rgba(60, 64, 67, 0.3), 0px 1px 3px 1px rgba(60, 64, 67, 0.15);\n",
              "        fill: #174EA6;\n",
              "      }\n",
              "\n",
              "      [theme=dark] .colab-df-generate {\n",
              "        background-color: #3B4455;\n",
              "        fill: #D2E3FC;\n",
              "      }\n",
              "\n",
              "      [theme=dark] .colab-df-generate:hover {\n",
              "        background-color: #434B5C;\n",
              "        box-shadow: 0px 1px 3px 1px rgba(0, 0, 0, 0.15);\n",
              "        filter: drop-shadow(0px 1px 2px rgba(0, 0, 0, 0.3));\n",
              "        fill: #FFFFFF;\n",
              "      }\n",
              "    </style>\n",
              "    <button class=\"colab-df-generate\" onclick=\"generateWithVariable('merged_df')\"\n",
              "            title=\"Generate code using this dataframe.\"\n",
              "            style=\"display:none;\">\n",
              "\n",
              "  <svg xmlns=\"http://www.w3.org/2000/svg\" height=\"24px\"viewBox=\"0 0 24 24\"\n",
              "       width=\"24px\">\n",
              "    <path d=\"M7,19H8.4L18.45,9,17,7.55,7,17.6ZM5,21V16.75L18.45,3.32a2,2,0,0,1,2.83,0l1.4,1.43a1.91,1.91,0,0,1,.58,1.4,1.91,1.91,0,0,1-.58,1.4L9.25,21ZM18.45,9,17,7.55Zm-12,3A5.31,5.31,0,0,0,4.9,8.1,5.31,5.31,0,0,0,1,6.5,5.31,5.31,0,0,0,4.9,4.9,5.31,5.31,0,0,0,6.5,1,5.31,5.31,0,0,0,8.1,4.9,5.31,5.31,0,0,0,12,6.5,5.46,5.46,0,0,0,6.5,12Z\"/>\n",
              "  </svg>\n",
              "    </button>\n",
              "    <script>\n",
              "      (() => {\n",
              "      const buttonEl =\n",
              "        document.querySelector('#id_8cb489a6-e511-49fc-b381-d48fc65281cd button.colab-df-generate');\n",
              "      buttonEl.style.display =\n",
              "        google.colab.kernel.accessAllowed ? 'block' : 'none';\n",
              "\n",
              "      buttonEl.onclick = () => {\n",
              "        google.colab.notebook.generateWithVariable('merged_df');\n",
              "      }\n",
              "      })();\n",
              "    </script>\n",
              "  </div>\n",
              "\n",
              "    </div>\n",
              "  </div>\n"
            ],
            "application/vnd.google.colaboratory.intrinsic+json": {
              "type": "dataframe",
              "variable_name": "merged_df"
            }
          },
          "metadata": {},
          "execution_count": 224
        }
      ],
      "source": [
        "merged_df = pd.merge(df, df_soxl, on='Date')\n",
        "merged_df"
      ]
    },
    {
      "cell_type": "code",
      "execution_count": 225,
      "metadata": {
        "id": "Er7GWdZETAdi"
      },
      "outputs": [],
      "source": [
        "df= merged_df.copy()"
      ]
    },
    {
      "cell_type": "code",
      "source": [
        "df = df.drop(columns=['SOXL_Open', 'SOXL_High', 'SOXL_Low', 'SOXL_Close', 'SOXL_Adj Close', 'SOXL_Volume'])\n"
      ],
      "metadata": {
        "id": "4sTYHTevQeFf"
      },
      "execution_count": 226,
      "outputs": []
    },
    {
      "cell_type": "code",
      "source": [
        "17+8"
      ],
      "metadata": {
        "colab": {
          "base_uri": "https://localhost:8080/"
        },
        "id": "yJCLm-aHVIcO",
        "outputId": "e74be3d1-6e9b-488e-f86a-96832fb08e2f"
      },
      "execution_count": 228,
      "outputs": [
        {
          "output_type": "execute_result",
          "data": {
            "text/plain": [
              "25"
            ]
          },
          "metadata": {},
          "execution_count": 228
        }
      ]
    },
    {
      "cell_type": "code",
      "source": [
        "df.shape"
      ],
      "metadata": {
        "colab": {
          "base_uri": "https://localhost:8080/"
        },
        "id": "My0KFAkoJIlb",
        "outputId": "0d346d8e-fd1f-4594-b15e-99e266ab906e"
      },
      "execution_count": 227,
      "outputs": [
        {
          "output_type": "execute_result",
          "data": {
            "text/plain": [
              "(15639, 25)"
            ]
          },
          "metadata": {},
          "execution_count": 227
        }
      ]
    },
    {
      "cell_type": "code",
      "source": [
        "df.columns"
      ],
      "metadata": {
        "colab": {
          "base_uri": "https://localhost:8080/"
        },
        "id": "4OJjrkrDKyWH",
        "outputId": "3c573939-bfa4-48aa-d755-aad821bfe478"
      },
      "execution_count": 128,
      "outputs": [
        {
          "output_type": "execute_result",
          "data": {
            "text/plain": [
              "Index(['head', 'Date', 'Text', 'type', 'src', 'Open', 'High', 'Low', 'Close',\n",
              "       'Adj Close', 'Volume', 'head_wordcount', 'Text_wordcount', 'head_label',\n",
              "       'Text_label', 'soxl_Open', 'soxl_High', 'soxl_Low', 'soxl_Close',\n",
              "       'soxl_Adj Close', 'soxl_Volume', 'soxl_Signal'],\n",
              "      dtype='object')"
            ]
          },
          "metadata": {},
          "execution_count": 128
        }
      ]
    },
    {
      "cell_type": "markdown",
      "source": [
        "#날짜 추출하기"
      ],
      "metadata": {
        "id": "Z2Z6hWkCNDu_"
      }
    },
    {
      "cell_type": "code",
      "execution_count": 229,
      "metadata": {
        "id": "0zJtNpNixPpc"
      },
      "outputs": [],
      "source": [
        "# 'Date' 컬럼에서 날짜 추출\n",
        "df['Day'] = df['Date'].dt.day\n",
        "\n",
        "# 'Date' 컬럼에서 월 추출\n",
        "df['Month'] = df['Date'].dt.month\n",
        "\n",
        "# 'Date' 컬럼에서 요일 추출\n",
        "df['Day_of_week'] = df['Date'].dt.dayofweek\n",
        "\n",
        "# 'Date' 컬럼에서 주(년 중 몇 번째 주인지) 추출\n",
        "df['Week_of_year'] = df['Date'].dt.isocalendar().week\n"
      ]
    },
    {
      "cell_type": "markdown",
      "metadata": {
        "id": "vVSuow9KPX8v"
      },
      "source": [
        "#원핫인코딩"
      ]
    },
    {
      "cell_type": "code",
      "execution_count": 54,
      "metadata": {
        "id": "PWxYfTC8PrJE"
      },
      "outputs": [],
      "source": [
        "#df.drop(columns=['Close','SOXL_Close'], inplace=True)"
      ]
    },
    {
      "cell_type": "code",
      "source": [
        "df.shape"
      ],
      "metadata": {
        "colab": {
          "base_uri": "https://localhost:8080/"
        },
        "id": "_seQ-_YyOgl6",
        "outputId": "ef72ea62-950e-48c0-8781-da70dafc6d89"
      },
      "execution_count": 230,
      "outputs": [
        {
          "output_type": "execute_result",
          "data": {
            "text/plain": [
              "(15639, 29)"
            ]
          },
          "metadata": {},
          "execution_count": 230
        }
      ]
    },
    {
      "cell_type": "code",
      "source": [
        "df.columns"
      ],
      "metadata": {
        "colab": {
          "base_uri": "https://localhost:8080/"
        },
        "id": "E68-hAKuTr2Q",
        "outputId": "8c23d08c-6cc4-49d4-93dd-1fefec0fddbd"
      },
      "execution_count": 199,
      "outputs": [
        {
          "output_type": "execute_result",
          "data": {
            "text/plain": [
              "Index(['head', 'Date', 'Text', 'Open', 'High', 'Low', 'Close', 'Adj Close',\n",
              "       'Volume', 'head_wordcount', 'Text_wordcount', 'head_label',\n",
              "       'Text_label', 'soxl_Open', 'soxl_High', 'soxl_Low', 'soxl_Close',\n",
              "       'soxl_Adj Close', 'soxl_Volume', 'soxl_Signal', 'next_signal', 'Day',\n",
              "       'Month', 'Day_of_week', 'Week_of_year', 'src_investing', 'src_reddit',\n",
              "       'type_ACLS', 'type_ADI', 'type_AMAT', 'type_AMD', 'type_ASML',\n",
              "       'type_ASX', 'type_AVGO', 'type_ENTG', 'type_INTC', 'type_KLAC',\n",
              "       'type_LRCX', 'type_LSCC', 'type_MCHP', 'type_MKSI', 'type_MPWR',\n",
              "       'type_MRVL', 'type_MU', 'type_NVDA', 'type_NXPI', 'type_ON',\n",
              "       'type_QCOM', 'type_QRVO', 'type_RMBS', 'type_STM', 'type_SWKS',\n",
              "       'type_TSMC', 'type_TXN', 'type_UMC', 'type_WOLF'],\n",
              "      dtype='object')"
            ]
          },
          "metadata": {},
          "execution_count": 199
        }
      ]
    },
    {
      "cell_type": "markdown",
      "metadata": {
        "id": "6QSltRfPPrbp"
      },
      "source": [
        "##src"
      ]
    },
    {
      "cell_type": "code",
      "execution_count": 232,
      "metadata": {
        "id": "diF2H_4QI1qR"
      },
      "outputs": [],
      "source": [
        "df_onehot = pd.get_dummies(df, columns=['src','type'])\n",
        "\n",
        "# 기존의 src 컬럼 제거\n",
        "df.drop(columns=['src','type'], inplace=True)\n",
        "\n",
        "# 원본 DataFrame에 다시 합치기\n",
        "df = pd.concat([df, df_onehot], axis=1)\n",
        "# 겹치는 컬럼 제거\n",
        "df = df.loc[:, ~df.columns.duplicated()]"
      ]
    },
    {
      "cell_type": "code",
      "source": [
        "df.shape"
      ],
      "metadata": {
        "colab": {
          "base_uri": "https://localhost:8080/"
        },
        "id": "RHSoltMQOCcK",
        "outputId": "449f1d15-3069-442d-8b30-7b9d74b3d3e9"
      },
      "execution_count": 233,
      "outputs": [
        {
          "output_type": "execute_result",
          "data": {
            "text/plain": [
              "(15639, 58)"
            ]
          },
          "metadata": {},
          "execution_count": 233
        }
      ]
    },
    {
      "cell_type": "code",
      "source": [
        "df=df.dropna()\n",
        "df.shape"
      ],
      "metadata": {
        "colab": {
          "base_uri": "https://localhost:8080/"
        },
        "id": "0i5AczvtTP37",
        "outputId": "339ddace-0d54-488e-d96c-e4c532ef876f"
      },
      "execution_count": 58,
      "outputs": [
        {
          "output_type": "execute_result",
          "data": {
            "text/plain": [
              "(15624, 61)"
            ]
          },
          "metadata": {},
          "execution_count": 58
        }
      ]
    },
    {
      "cell_type": "markdown",
      "metadata": {
        "id": "gn0qs_okP-Vw"
      },
      "source": [
        "#word2vec 진행"
      ]
    },
    {
      "cell_type": "code",
      "execution_count": 59,
      "metadata": {
        "colab": {
          "base_uri": "https://localhost:8080/"
        },
        "collapsed": true,
        "id": "wpSDtmaHQ2_T",
        "outputId": "94269985-74d8-4905-c6c8-f861e3c5502e"
      },
      "outputs": [
        {
          "output_type": "stream",
          "name": "stderr",
          "text": [
            "[nltk_data] Downloading collection 'all'\n",
            "[nltk_data]    | \n",
            "[nltk_data]    | Downloading package abc to /root/nltk_data...\n",
            "[nltk_data]    |   Unzipping corpora/abc.zip.\n",
            "[nltk_data]    | Downloading package alpino to /root/nltk_data...\n",
            "[nltk_data]    |   Unzipping corpora/alpino.zip.\n",
            "[nltk_data]    | Downloading package averaged_perceptron_tagger to\n",
            "[nltk_data]    |     /root/nltk_data...\n",
            "[nltk_data]    |   Unzipping taggers/averaged_perceptron_tagger.zip.\n",
            "[nltk_data]    | Downloading package averaged_perceptron_tagger_ru to\n",
            "[nltk_data]    |     /root/nltk_data...\n",
            "[nltk_data]    |   Unzipping\n",
            "[nltk_data]    |       taggers/averaged_perceptron_tagger_ru.zip.\n",
            "[nltk_data]    | Downloading package basque_grammars to\n",
            "[nltk_data]    |     /root/nltk_data...\n",
            "[nltk_data]    |   Unzipping grammars/basque_grammars.zip.\n",
            "[nltk_data]    | Downloading package bcp47 to /root/nltk_data...\n",
            "[nltk_data]    | Downloading package biocreative_ppi to\n",
            "[nltk_data]    |     /root/nltk_data...\n",
            "[nltk_data]    |   Unzipping corpora/biocreative_ppi.zip.\n",
            "[nltk_data]    | Downloading package bllip_wsj_no_aux to\n",
            "[nltk_data]    |     /root/nltk_data...\n",
            "[nltk_data]    |   Unzipping models/bllip_wsj_no_aux.zip.\n",
            "[nltk_data]    | Downloading package book_grammars to\n",
            "[nltk_data]    |     /root/nltk_data...\n",
            "[nltk_data]    |   Unzipping grammars/book_grammars.zip.\n",
            "[nltk_data]    | Downloading package brown to /root/nltk_data...\n",
            "[nltk_data]    |   Unzipping corpora/brown.zip.\n",
            "[nltk_data]    | Downloading package brown_tei to /root/nltk_data...\n",
            "[nltk_data]    |   Unzipping corpora/brown_tei.zip.\n",
            "[nltk_data]    | Downloading package cess_cat to /root/nltk_data...\n",
            "[nltk_data]    |   Unzipping corpora/cess_cat.zip.\n",
            "[nltk_data]    | Downloading package cess_esp to /root/nltk_data...\n",
            "[nltk_data]    |   Unzipping corpora/cess_esp.zip.\n",
            "[nltk_data]    | Downloading package chat80 to /root/nltk_data...\n",
            "[nltk_data]    |   Unzipping corpora/chat80.zip.\n",
            "[nltk_data]    | Downloading package city_database to\n",
            "[nltk_data]    |     /root/nltk_data...\n",
            "[nltk_data]    |   Unzipping corpora/city_database.zip.\n",
            "[nltk_data]    | Downloading package cmudict to /root/nltk_data...\n",
            "[nltk_data]    |   Unzipping corpora/cmudict.zip.\n",
            "[nltk_data]    | Downloading package comparative_sentences to\n",
            "[nltk_data]    |     /root/nltk_data...\n",
            "[nltk_data]    |   Unzipping corpora/comparative_sentences.zip.\n",
            "[nltk_data]    | Downloading package comtrans to /root/nltk_data...\n",
            "[nltk_data]    | Downloading package conll2000 to /root/nltk_data...\n",
            "[nltk_data]    |   Unzipping corpora/conll2000.zip.\n",
            "[nltk_data]    | Downloading package conll2002 to /root/nltk_data...\n",
            "[nltk_data]    |   Unzipping corpora/conll2002.zip.\n",
            "[nltk_data]    | Downloading package conll2007 to /root/nltk_data...\n",
            "[nltk_data]    | Downloading package crubadan to /root/nltk_data...\n",
            "[nltk_data]    |   Unzipping corpora/crubadan.zip.\n",
            "[nltk_data]    | Downloading package dependency_treebank to\n",
            "[nltk_data]    |     /root/nltk_data...\n",
            "[nltk_data]    |   Unzipping corpora/dependency_treebank.zip.\n",
            "[nltk_data]    | Downloading package dolch to /root/nltk_data...\n",
            "[nltk_data]    |   Unzipping corpora/dolch.zip.\n",
            "[nltk_data]    | Downloading package europarl_raw to\n",
            "[nltk_data]    |     /root/nltk_data...\n",
            "[nltk_data]    |   Unzipping corpora/europarl_raw.zip.\n",
            "[nltk_data]    | Downloading package extended_omw to\n",
            "[nltk_data]    |     /root/nltk_data...\n",
            "[nltk_data]    | Downloading package floresta to /root/nltk_data...\n",
            "[nltk_data]    |   Unzipping corpora/floresta.zip.\n",
            "[nltk_data]    | Downloading package framenet_v15 to\n",
            "[nltk_data]    |     /root/nltk_data...\n",
            "[nltk_data]    |   Unzipping corpora/framenet_v15.zip.\n",
            "[nltk_data]    | Downloading package framenet_v17 to\n",
            "[nltk_data]    |     /root/nltk_data...\n",
            "[nltk_data]    |   Unzipping corpora/framenet_v17.zip.\n",
            "[nltk_data]    | Downloading package gazetteers to /root/nltk_data...\n",
            "[nltk_data]    |   Unzipping corpora/gazetteers.zip.\n",
            "[nltk_data]    | Downloading package genesis to /root/nltk_data...\n",
            "[nltk_data]    |   Unzipping corpora/genesis.zip.\n",
            "[nltk_data]    | Downloading package gutenberg to /root/nltk_data...\n",
            "[nltk_data]    |   Unzipping corpora/gutenberg.zip.\n",
            "[nltk_data]    | Downloading package ieer to /root/nltk_data...\n",
            "[nltk_data]    |   Unzipping corpora/ieer.zip.\n",
            "[nltk_data]    | Downloading package inaugural to /root/nltk_data...\n",
            "[nltk_data]    |   Unzipping corpora/inaugural.zip.\n",
            "[nltk_data]    | Downloading package indian to /root/nltk_data...\n",
            "[nltk_data]    |   Unzipping corpora/indian.zip.\n",
            "[nltk_data]    | Downloading package jeita to /root/nltk_data...\n",
            "[nltk_data]    | Downloading package kimmo to /root/nltk_data...\n",
            "[nltk_data]    |   Unzipping corpora/kimmo.zip.\n",
            "[nltk_data]    | Downloading package knbc to /root/nltk_data...\n",
            "[nltk_data]    | Downloading package large_grammars to\n",
            "[nltk_data]    |     /root/nltk_data...\n",
            "[nltk_data]    |   Unzipping grammars/large_grammars.zip.\n",
            "[nltk_data]    | Downloading package lin_thesaurus to\n",
            "[nltk_data]    |     /root/nltk_data...\n",
            "[nltk_data]    |   Unzipping corpora/lin_thesaurus.zip.\n",
            "[nltk_data]    | Downloading package mac_morpho to /root/nltk_data...\n",
            "[nltk_data]    |   Unzipping corpora/mac_morpho.zip.\n",
            "[nltk_data]    | Downloading package machado to /root/nltk_data...\n",
            "[nltk_data]    | Downloading package masc_tagged to /root/nltk_data...\n",
            "[nltk_data]    | Downloading package maxent_ne_chunker to\n",
            "[nltk_data]    |     /root/nltk_data...\n",
            "[nltk_data]    |   Unzipping chunkers/maxent_ne_chunker.zip.\n",
            "[nltk_data]    | Downloading package maxent_treebank_pos_tagger to\n",
            "[nltk_data]    |     /root/nltk_data...\n",
            "[nltk_data]    |   Unzipping taggers/maxent_treebank_pos_tagger.zip.\n",
            "[nltk_data]    | Downloading package moses_sample to\n",
            "[nltk_data]    |     /root/nltk_data...\n",
            "[nltk_data]    |   Unzipping models/moses_sample.zip.\n",
            "[nltk_data]    | Downloading package movie_reviews to\n",
            "[nltk_data]    |     /root/nltk_data...\n",
            "[nltk_data]    |   Unzipping corpora/movie_reviews.zip.\n",
            "[nltk_data]    | Downloading package mte_teip5 to /root/nltk_data...\n",
            "[nltk_data]    |   Unzipping corpora/mte_teip5.zip.\n",
            "[nltk_data]    | Downloading package mwa_ppdb to /root/nltk_data...\n",
            "[nltk_data]    |   Unzipping misc/mwa_ppdb.zip.\n",
            "[nltk_data]    | Downloading package names to /root/nltk_data...\n",
            "[nltk_data]    |   Unzipping corpora/names.zip.\n",
            "[nltk_data]    | Downloading package nombank.1.0 to /root/nltk_data...\n",
            "[nltk_data]    | Downloading package nonbreaking_prefixes to\n",
            "[nltk_data]    |     /root/nltk_data...\n",
            "[nltk_data]    |   Unzipping corpora/nonbreaking_prefixes.zip.\n",
            "[nltk_data]    | Downloading package nps_chat to /root/nltk_data...\n",
            "[nltk_data]    |   Unzipping corpora/nps_chat.zip.\n",
            "[nltk_data]    | Downloading package omw to /root/nltk_data...\n",
            "[nltk_data]    | Downloading package omw-1.4 to /root/nltk_data...\n",
            "[nltk_data]    | Downloading package opinion_lexicon to\n",
            "[nltk_data]    |     /root/nltk_data...\n",
            "[nltk_data]    |   Unzipping corpora/opinion_lexicon.zip.\n",
            "[nltk_data]    | Downloading package panlex_swadesh to\n",
            "[nltk_data]    |     /root/nltk_data...\n",
            "[nltk_data]    | Downloading package paradigms to /root/nltk_data...\n",
            "[nltk_data]    |   Unzipping corpora/paradigms.zip.\n",
            "[nltk_data]    | Downloading package pe08 to /root/nltk_data...\n",
            "[nltk_data]    |   Unzipping corpora/pe08.zip.\n",
            "[nltk_data]    | Downloading package perluniprops to\n",
            "[nltk_data]    |     /root/nltk_data...\n",
            "[nltk_data]    |   Unzipping misc/perluniprops.zip.\n",
            "[nltk_data]    | Downloading package pil to /root/nltk_data...\n",
            "[nltk_data]    |   Unzipping corpora/pil.zip.\n",
            "[nltk_data]    | Downloading package pl196x to /root/nltk_data...\n",
            "[nltk_data]    |   Unzipping corpora/pl196x.zip.\n",
            "[nltk_data]    | Downloading package porter_test to /root/nltk_data...\n",
            "[nltk_data]    |   Unzipping stemmers/porter_test.zip.\n",
            "[nltk_data]    | Downloading package ppattach to /root/nltk_data...\n",
            "[nltk_data]    |   Unzipping corpora/ppattach.zip.\n",
            "[nltk_data]    | Downloading package problem_reports to\n",
            "[nltk_data]    |     /root/nltk_data...\n",
            "[nltk_data]    |   Unzipping corpora/problem_reports.zip.\n",
            "[nltk_data]    | Downloading package product_reviews_1 to\n",
            "[nltk_data]    |     /root/nltk_data...\n",
            "[nltk_data]    |   Unzipping corpora/product_reviews_1.zip.\n",
            "[nltk_data]    | Downloading package product_reviews_2 to\n",
            "[nltk_data]    |     /root/nltk_data...\n",
            "[nltk_data]    |   Unzipping corpora/product_reviews_2.zip.\n",
            "[nltk_data]    | Downloading package propbank to /root/nltk_data...\n",
            "[nltk_data]    | Downloading package pros_cons to /root/nltk_data...\n",
            "[nltk_data]    |   Unzipping corpora/pros_cons.zip.\n",
            "[nltk_data]    | Downloading package ptb to /root/nltk_data...\n",
            "[nltk_data]    |   Unzipping corpora/ptb.zip.\n",
            "[nltk_data]    | Downloading package punkt to /root/nltk_data...\n",
            "[nltk_data]    |   Unzipping tokenizers/punkt.zip.\n",
            "[nltk_data]    | Downloading package qc to /root/nltk_data...\n",
            "[nltk_data]    |   Unzipping corpora/qc.zip.\n",
            "[nltk_data]    | Downloading package reuters to /root/nltk_data...\n",
            "[nltk_data]    | Downloading package rslp to /root/nltk_data...\n",
            "[nltk_data]    |   Unzipping stemmers/rslp.zip.\n",
            "[nltk_data]    | Downloading package rte to /root/nltk_data...\n",
            "[nltk_data]    |   Unzipping corpora/rte.zip.\n",
            "[nltk_data]    | Downloading package sample_grammars to\n",
            "[nltk_data]    |     /root/nltk_data...\n",
            "[nltk_data]    |   Unzipping grammars/sample_grammars.zip.\n",
            "[nltk_data]    | Downloading package semcor to /root/nltk_data...\n",
            "[nltk_data]    | Downloading package senseval to /root/nltk_data...\n",
            "[nltk_data]    |   Unzipping corpora/senseval.zip.\n",
            "[nltk_data]    | Downloading package sentence_polarity to\n",
            "[nltk_data]    |     /root/nltk_data...\n",
            "[nltk_data]    |   Unzipping corpora/sentence_polarity.zip.\n",
            "[nltk_data]    | Downloading package sentiwordnet to\n",
            "[nltk_data]    |     /root/nltk_data...\n",
            "[nltk_data]    |   Unzipping corpora/sentiwordnet.zip.\n",
            "[nltk_data]    | Downloading package shakespeare to /root/nltk_data...\n",
            "[nltk_data]    |   Unzipping corpora/shakespeare.zip.\n",
            "[nltk_data]    | Downloading package sinica_treebank to\n",
            "[nltk_data]    |     /root/nltk_data...\n",
            "[nltk_data]    |   Unzipping corpora/sinica_treebank.zip.\n",
            "[nltk_data]    | Downloading package smultron to /root/nltk_data...\n",
            "[nltk_data]    |   Unzipping corpora/smultron.zip.\n",
            "[nltk_data]    | Downloading package snowball_data to\n",
            "[nltk_data]    |     /root/nltk_data...\n",
            "[nltk_data]    | Downloading package spanish_grammars to\n",
            "[nltk_data]    |     /root/nltk_data...\n",
            "[nltk_data]    |   Unzipping grammars/spanish_grammars.zip.\n",
            "[nltk_data]    | Downloading package state_union to /root/nltk_data...\n",
            "[nltk_data]    |   Unzipping corpora/state_union.zip.\n",
            "[nltk_data]    | Downloading package stopwords to /root/nltk_data...\n",
            "[nltk_data]    |   Unzipping corpora/stopwords.zip.\n",
            "[nltk_data]    | Downloading package subjectivity to\n",
            "[nltk_data]    |     /root/nltk_data...\n",
            "[nltk_data]    |   Unzipping corpora/subjectivity.zip.\n",
            "[nltk_data]    | Downloading package swadesh to /root/nltk_data...\n",
            "[nltk_data]    |   Unzipping corpora/swadesh.zip.\n",
            "[nltk_data]    | Downloading package switchboard to /root/nltk_data...\n",
            "[nltk_data]    |   Unzipping corpora/switchboard.zip.\n",
            "[nltk_data]    | Downloading package tagsets to /root/nltk_data...\n",
            "[nltk_data]    |   Unzipping help/tagsets.zip.\n",
            "[nltk_data]    | Downloading package timit to /root/nltk_data...\n",
            "[nltk_data]    |   Unzipping corpora/timit.zip.\n",
            "[nltk_data]    | Downloading package toolbox to /root/nltk_data...\n",
            "[nltk_data]    |   Unzipping corpora/toolbox.zip.\n",
            "[nltk_data]    | Downloading package treebank to /root/nltk_data...\n",
            "[nltk_data]    |   Unzipping corpora/treebank.zip.\n",
            "[nltk_data]    | Downloading package twitter_samples to\n",
            "[nltk_data]    |     /root/nltk_data...\n",
            "[nltk_data]    |   Unzipping corpora/twitter_samples.zip.\n",
            "[nltk_data]    | Downloading package udhr to /root/nltk_data...\n",
            "[nltk_data]    |   Unzipping corpora/udhr.zip.\n",
            "[nltk_data]    | Downloading package udhr2 to /root/nltk_data...\n",
            "[nltk_data]    |   Unzipping corpora/udhr2.zip.\n",
            "[nltk_data]    | Downloading package unicode_samples to\n",
            "[nltk_data]    |     /root/nltk_data...\n",
            "[nltk_data]    |   Unzipping corpora/unicode_samples.zip.\n",
            "[nltk_data]    | Downloading package universal_tagset to\n",
            "[nltk_data]    |     /root/nltk_data...\n",
            "[nltk_data]    |   Unzipping taggers/universal_tagset.zip.\n",
            "[nltk_data]    | Downloading package universal_treebanks_v20 to\n",
            "[nltk_data]    |     /root/nltk_data...\n",
            "[nltk_data]    | Downloading package vader_lexicon to\n",
            "[nltk_data]    |     /root/nltk_data...\n",
            "[nltk_data]    | Downloading package verbnet to /root/nltk_data...\n",
            "[nltk_data]    |   Unzipping corpora/verbnet.zip.\n",
            "[nltk_data]    | Downloading package verbnet3 to /root/nltk_data...\n",
            "[nltk_data]    |   Unzipping corpora/verbnet3.zip.\n",
            "[nltk_data]    | Downloading package webtext to /root/nltk_data...\n",
            "[nltk_data]    |   Unzipping corpora/webtext.zip.\n",
            "[nltk_data]    | Downloading package wmt15_eval to /root/nltk_data...\n",
            "[nltk_data]    |   Unzipping models/wmt15_eval.zip.\n",
            "[nltk_data]    | Downloading package word2vec_sample to\n",
            "[nltk_data]    |     /root/nltk_data...\n",
            "[nltk_data]    |   Unzipping models/word2vec_sample.zip.\n",
            "[nltk_data]    | Downloading package wordnet to /root/nltk_data...\n",
            "[nltk_data]    | Downloading package wordnet2021 to /root/nltk_data...\n",
            "[nltk_data]    | Downloading package wordnet2022 to /root/nltk_data...\n",
            "[nltk_data]    |   Unzipping corpora/wordnet2022.zip.\n",
            "[nltk_data]    | Downloading package wordnet31 to /root/nltk_data...\n",
            "[nltk_data]    | Downloading package wordnet_ic to /root/nltk_data...\n",
            "[nltk_data]    |   Unzipping corpora/wordnet_ic.zip.\n",
            "[nltk_data]    | Downloading package words to /root/nltk_data...\n",
            "[nltk_data]    |   Unzipping corpora/words.zip.\n",
            "[nltk_data]    | Downloading package ycoe to /root/nltk_data...\n",
            "[nltk_data]    |   Unzipping corpora/ycoe.zip.\n",
            "[nltk_data]    | \n",
            "[nltk_data]  Done downloading collection all\n"
          ]
        },
        {
          "output_type": "execute_result",
          "data": {
            "text/plain": [
              "True"
            ]
          },
          "metadata": {},
          "execution_count": 59
        }
      ],
      "source": [
        "import nltk\n",
        "nltk.download('all')"
      ]
    },
    {
      "cell_type": "markdown",
      "source": [
        "##head word2vec"
      ],
      "metadata": {
        "id": "qx67QsBCP43k"
      }
    },
    {
      "cell_type": "code",
      "execution_count": 60,
      "metadata": {
        "collapsed": true,
        "id": "ei5tpC7KP4Ft"
      },
      "outputs": [],
      "source": [
        "import pandas as pd\n",
        "import gensim\n",
        "from gensim.models import Word2Vec\n",
        "from nltk.tokenize import word_tokenize\n",
        "import numpy as np\n",
        "\n",
        "df['head'] = df['head'].astype(str)\n",
        "df['tokens'] = df['head'].apply(word_tokenize)\n",
        "\n",
        "# Word2Vec 모델 학습\n",
        "model = Word2Vec(sentences=df['tokens'], vector_size=50, window=5, min_count=1, workers=4)"
      ]
    },
    {
      "cell_type": "code",
      "execution_count": 61,
      "metadata": {
        "id": "mJhB1tipQBqq"
      },
      "outputs": [],
      "source": [
        "def vectorize_headline(tokens, model):\n",
        "    # 토큰이 모델에 있는 경우에만 벡터 가져오기\n",
        "    vectors = [model.wv[token] for token in tokens if token in model.wv]\n",
        "    if len(vectors) > 0:\n",
        "        # 벡터들의 평균 계산\n",
        "        return np.mean(vectors, axis=0)\n",
        "    else:\n",
        "        return np.zeros(model.vector_size)\n",
        "\n",
        "# 각 헤드라인을 벡터로 변환\n",
        "df['headline_vector'] = df['tokens'].apply(lambda tokens: vectorize_headline(tokens, model))\n",
        "\n",
        "# 벡터를 개별 열로 변환\n",
        "vector_size = model.vector_size\n",
        "vector_columns = [f'vector_{i}' for i in range(vector_size)]\n",
        "vector_df = pd.DataFrame(df['headline_vector'].tolist(), columns=vector_columns)\n",
        "\n",
        "df = pd.concat([df, vector_df], axis=1)"
      ]
    },
    {
      "cell_type": "markdown",
      "source": [
        "## text의 word2vec 진행하기"
      ],
      "metadata": {
        "id": "RXPQee7iQBkZ"
      }
    },
    {
      "cell_type": "code",
      "execution_count": 62,
      "metadata": {
        "id": "6XXG3H-XTvpH"
      },
      "outputs": [],
      "source": [
        "df['Text'] = df['Text'].astype(str)\n",
        "df['tokens'] = df['Text'].apply(word_tokenize)\n",
        "\n",
        "# Word2Vec 모델 학습\n",
        "model = Word2Vec(sentences=df['tokens'], vector_size=100, window=5, min_count=1, workers=4)"
      ]
    },
    {
      "cell_type": "code",
      "execution_count": 63,
      "metadata": {
        "id": "05jfroLBUPHJ"
      },
      "outputs": [],
      "source": [
        "df['headline_vector'] = df['tokens'].apply(lambda tokens: vectorize_headline(tokens, model))\n",
        "\n",
        "# 벡터를 개별 열로 변환\n",
        "vector_size = model.vector_size\n",
        "vector_columns = [f'vector_Text_{i}' for i in range(vector_size)]\n",
        "vector_df = pd.DataFrame(df['headline_vector'].tolist(), columns=vector_columns)\n",
        "\n",
        "# 기존 데이터프레임과 벡터 데이터프레임 결합\n",
        "df = pd.concat([df, vector_df], axis=1)"
      ]
    },
    {
      "cell_type": "markdown",
      "source": [
        "#학습에 사용하지 못하는 컬럼 제거"
      ],
      "metadata": {
        "id": "sc-GRAikSBrm"
      }
    },
    {
      "cell_type": "code",
      "execution_count": 64,
      "metadata": {
        "id": "A39tFgdaUuCD"
      },
      "outputs": [],
      "source": [
        "for col in df.columns:\n",
        "    if df[col].apply(lambda x: isinstance(x, str) or isinstance(x, list)).all():\n",
        "        df.drop(columns=[col], inplace=True)\n"
      ]
    },
    {
      "cell_type": "code",
      "source": [
        "signal_column = df.pop('soxl_Signal')\n",
        "df.insert(0, 'soxl_Signal', signal_column)"
      ],
      "metadata": {
        "id": "Ev6z8Z_EULuC"
      },
      "execution_count": 65,
      "outputs": []
    },
    {
      "cell_type": "markdown",
      "source": [],
      "metadata": {
        "id": "ScDZOs3uURiT"
      }
    },
    {
      "cell_type": "code",
      "source": [
        "df.shape"
      ],
      "metadata": {
        "colab": {
          "base_uri": "https://localhost:8080/"
        },
        "id": "hgRXh1YSRX6B",
        "outputId": "52d9f525-7494-460d-9e9b-87dce98a1bc5"
      },
      "execution_count": 66,
      "outputs": [
        {
          "output_type": "execute_result",
          "data": {
            "text/plain": [
              "(15624, 210)"
            ]
          },
          "metadata": {},
          "execution_count": 66
        }
      ]
    },
    {
      "cell_type": "code",
      "source": [],
      "metadata": {
        "id": "D1m7T1LbT0vW",
        "colab": {
          "base_uri": "https://localhost:8080/",
          "height": 148
        },
        "outputId": "3b3ffed3-9c77-422d-e1e5-f5d3ef1b6bcd"
      },
      "execution_count": 67,
      "outputs": [
        {
          "output_type": "error",
          "ename": "NameError",
          "evalue": "name 'train_data' is not defined",
          "traceback": [
            "\u001b[0;31m---------------------------------------------------------------------------\u001b[0m",
            "\u001b[0;31mNameError\u001b[0m                                 Traceback (most recent call last)",
            "\u001b[0;32m<ipython-input-67-baf102a70481>\u001b[0m in \u001b[0;36m<cell line: 1>\u001b[0;34m()\u001b[0m\n\u001b[0;32m----> 1\u001b[0;31m \u001b[0mcolumns_list\u001b[0m \u001b[0;34m=\u001b[0m \u001b[0mtrain_data\u001b[0m\u001b[0;34m.\u001b[0m\u001b[0mcolumns\u001b[0m\u001b[0;34m[\u001b[0m\u001b[0;36m1\u001b[0m\u001b[0;34m:\u001b[0m\u001b[0;34m]\u001b[0m\u001b[0;34m.\u001b[0m\u001b[0mtolist\u001b[0m\u001b[0;34m(\u001b[0m\u001b[0;34m)\u001b[0m\u001b[0;34m\u001b[0m\u001b[0;34m\u001b[0m\u001b[0m\n\u001b[0m",
            "\u001b[0;31mNameError\u001b[0m: name 'train_data' is not defined"
          ]
        }
      ]
    },
    {
      "cell_type": "code",
      "source": [
        "df = df.dropna()"
      ],
      "metadata": {
        "id": "gFdV8cT0NSll"
      },
      "execution_count": 68,
      "outputs": []
    },
    {
      "cell_type": "code",
      "source": [
        "split_date = pd.to_datetime('2024-01-23')\n",
        "train_data = df[df['Date'] < split_date]\n",
        "test_data = df[df['Date'] >= split_date]"
      ],
      "metadata": {
        "id": "z57OGhU5KVmx"
      },
      "execution_count": 69,
      "outputs": []
    },
    {
      "cell_type": "code",
      "execution_count": 70,
      "metadata": {
        "id": "-8ma0HwNVh-B"
      },
      "outputs": [],
      "source": [
        "train_data = train_data.drop(columns=['headline_vector'])\n",
        "test_data  = test_data .drop(columns=['headline_vector'])\n",
        "train_data = train_data.drop(columns=['Date'])\n",
        "test_data  = test_data .drop(columns=['Date'])"
      ]
    },
    {
      "cell_type": "code",
      "source": [
        "columns_list = train_data.columns[1:].tolist()"
      ],
      "metadata": {
        "id": "91ZwIo81SJYr"
      },
      "execution_count": 71,
      "outputs": []
    },
    {
      "cell_type": "markdown",
      "source": [
        "#학습할 컬럼 지정"
      ],
      "metadata": {
        "id": "kEYxs6vkSiMj"
      }
    },
    {
      "cell_type": "code",
      "source": [],
      "metadata": {
        "id": "w-7MUpV8RU_L"
      },
      "execution_count": null,
      "outputs": []
    },
    {
      "cell_type": "code",
      "execution_count": 72,
      "metadata": {
        "collapsed": true,
        "id": "7250bVa5NAMe"
      },
      "outputs": [],
      "source": [
        "columns_list = train_data.columns[1:].tolist()"
      ]
    },
    {
      "cell_type": "code",
      "source": [
        "df = df.dropna()"
      ],
      "metadata": {
        "id": "MuJROZKdKzzb"
      },
      "execution_count": null,
      "outputs": []
    },
    {
      "cell_type": "code",
      "execution_count": 73,
      "metadata": {
        "id": "QIlAL08cVlBr"
      },
      "outputs": [],
      "source": [
        "X = df[columns_list]\n",
        "\n",
        "y = df[['soxl_Signal']].values.ravel()\n",
        "\n",
        "##학습할 컬럼 지정\n",
        "X_train_cat = train_data.loc[:, columns_list]\n",
        "X_test_cat = test_data.loc[:, columns_list]\n"
      ]
    },
    {
      "cell_type": "code",
      "execution_count": 74,
      "metadata": {
        "id": "_voVHdJQbBn4"
      },
      "outputs": [],
      "source": [
        "def custom_accuracy(y_true, y_pred):\n",
        "    # 예측과 실제 값의 차이를 계산\n",
        "    differences = np.abs(y_true - y_pred)\n",
        "\n",
        "    # 3인 경우에는 정확하게 일치해야 함\n",
        "    exact_matches = (y_true == 2) & (y_pred == 2)\n",
        "\n",
        "    # 3이 아닌 경우에는 차이가 1 이하인 경우를 적중으로 간주\n",
        "    near_matches = (y_true != 2) & (differences <= 1)\n",
        "\n",
        "    # 적중한 경우를 결합\n",
        "    accurate_predictions = exact_matches | near_matches\n",
        "\n",
        "    # 적중한 경우의 비율을 계산하여 반환\n",
        "    return np.mean(accurate_predictions)\n",
        "\n",
        "# 커스텀 정확도 계산\n",
        "\n"
      ]
    },
    {
      "cell_type": "code",
      "source": [
        "df=df.dropna()"
      ],
      "metadata": {
        "id": "eRsOjr8kMW12"
      },
      "execution_count": null,
      "outputs": []
    },
    {
      "cell_type": "code",
      "source": [
        "X_train_cat.shape"
      ],
      "metadata": {
        "id": "F9j5IxnaQFni"
      },
      "execution_count": null,
      "outputs": []
    },
    {
      "cell_type": "code",
      "source": [
        "y_train_cat.shape"
      ],
      "metadata": {
        "id": "7dbT5HD3QIT2"
      },
      "execution_count": null,
      "outputs": []
    },
    {
      "cell_type": "markdown",
      "source": [
        "#모델학습"
      ],
      "metadata": {
        "id": "DBMWUopVVsrY"
      }
    },
    {
      "cell_type": "code",
      "execution_count": 75,
      "metadata": {
        "colab": {
          "base_uri": "https://localhost:8080/"
        },
        "id": "hyEK4QK_WfYZ",
        "outputId": "93fa5bbf-f37e-4ff5-abb8-e5765cccb5d8"
      },
      "outputs": [
        {
          "output_type": "stream",
          "name": "stdout",
          "text": [
            "Logistic Regression Mean Cross-Validation Accuracy Score: 0.48060033351862147\n",
            "Random Forest Classifier Mean Cross-Validation Accuracy Score: 0.8415786548082268\n",
            "KNN Mean Cross-Validation Accuracy Score: 0.5106170094496942\n",
            "Support Vector Classifier Mean Cross-Validation Accuracy Score: 0.6635908838243468\n",
            "Naive Bayes Mean Cross-Validation Accuracy Score: 0.6882712618121178\n",
            "Gradient Boosting Mean Cross-Validation Accuracy Score: 0.8581434130072262\n",
            "Decision Tree Classifer Mean Cross-Validation Accuracy Score: 0.846692607003891\n",
            "Bagging Mean Cross-Validation Accuracy Score: 0.8336853807670929\n",
            "XGBClassifier Classifier Mean Cross-Validation Accuracy Score: 0.8511395219566426\n"
          ]
        }
      ],
      "source": [
        "xgb_classifier = xgb.XGBClassifier(seed=41)\n",
        "# train_data와 test_data에서 X와 y를 설정합니다.\n",
        "X_train_cat = train_data[columns_list].astype(float)\n",
        "y_train_cat = train_data['soxl_Signal'].astype(int)\n",
        "\n",
        "X_test_cat = test_data[columns_list].astype(float)\n",
        "y_test_cat = test_data['soxl_Signal'].astype(int)\n",
        "\n",
        "\n",
        "# 8개의 모델을 정의합니다.\n",
        "models = {\n",
        "    \"Logistic Regression\": LogisticRegression(max_iter=2000, random_state=41),\n",
        "    \"Random Forest Classifier\": RandomForestClassifier(random_state=41),\n",
        "    \"KNN\": KNeighborsClassifier(),\n",
        "    \"Support Vector Classifier\": SVC(random_state=41),\n",
        "    \"Naive Bayes\": GaussianNB(),\n",
        "    \"Gradient Boosting\": GradientBoostingClassifier(random_state=41),\n",
        "    \"Decision Tree Classifer\": DecisionTreeClassifier(random_state=41),\n",
        "    \"Bagging\": BaggingClassifier(random_state=41),\n",
        "    \"XGBClassifier Classifier\": xgb.XGBClassifier(seed=41)\n",
        "}\n",
        "lst=[]\n",
        "# 각 모델의 정확도를 출력합니다.\n",
        "for name, model in models.items():\n",
        "\n",
        "    model.fit(X_train_cat, y_train_cat)\n",
        "    y_pred = model.predict(X_test_cat)\n",
        "    lst.append(y_pred)\n",
        "    accuracy = np.mean(y_pred == y_test_cat)\n",
        "    # 커스텀 정확도 계산\n",
        "    accuracy = custom_accuracy( y_test_cat,y_pred)\n",
        "    print(\"{} Mean Cross-Validation Accuracy Score: {}\".format(name, accuracy))"
      ]
    },
    {
      "cell_type": "code",
      "source": [
        "df_to_lst = pd.DataFrame(lst[0])"
      ],
      "metadata": {
        "id": "ZJBmVOodL_zL"
      },
      "execution_count": null,
      "outputs": []
    },
    {
      "cell_type": "code",
      "source": [],
      "metadata": {
        "id": "dd9XMTwNM3s3"
      },
      "execution_count": null,
      "outputs": []
    },
    {
      "cell_type": "code",
      "source": [],
      "metadata": {
        "id": "c3UeLKxVMHRr"
      },
      "execution_count": null,
      "outputs": []
    }
  ],
  "metadata": {
    "colab": {
      "provenance": []
    },
    "kernelspec": {
      "display_name": "Python 3",
      "name": "python3"
    },
    "language_info": {
      "name": "python"
    }
  },
  "nbformat": 4,
  "nbformat_minor": 0
}