{
  "nbformat": 4,
  "nbformat_minor": 0,
  "metadata": {
    "colab": {
      "provenance": []
    },
    "kernelspec": {
      "name": "python3",
      "display_name": "Python 3"
    },
    "language_info": {
      "name": "python"
    }
  },
  "cells": [
    {
      "cell_type": "code",
      "source": [
        "import pandas as pd\n",
        "from scipy.stats import mode\n",
        "\n",
        "# 엑셀 파일에서 데이터 읽어오기\n",
        "file_path = '/content/drive/MyDrive/KDT/중간 프로젝트/완성코드/최종완성코드/mode_k추가/찐찐막/combined_df_8_v006.xlsx'  # 엑셀 파일 경로를 여기에 입력하세요\n",
        "df = pd.read_excel(file_path)\n",
        "\n",
        "# Date 컬럼을 datetime 형식으로 변환\n",
        "df['Date'] = pd.to_datetime(df['Date'])\n",
        "\n",
        "# 각 날짜에 대한 최빈값 계산\n",
        "mode_per_date = df.groupby('Date')['K'].apply(lambda x:mode(x).mode.item())\n",
        "\n",
        "# Mode_K 열 추가\n",
        "df['Mode_K'] = df['Date'].map(mode_per_date)\n",
        "\n",
        "# 중복된 행 제거 (날짜가 동일한 경우만)\n",
        "df_mode_unique = df.drop_duplicates(subset=['Date'])\n",
        "\n",
        "# 결과를 새로운 엑셀 파일로 저장\n",
        "output_file_path = '/content/drive/MyDrive/KDT/중간 프로젝트/완성코드/최종완성코드/mode_k추가/찐찐막/modecombined_df_8_v006.xlsx'  # 저장할 엑셀 파일 경로를 여기에 입력하세요\n",
        "df_mode_unique.to_excel(output_file_path, index=False)\n",
        "\n",
        "print(\"Mode_K 열이 추가된 데이터프레임이 저장되었습니다.\")\n",
        "\n"
      ],
      "metadata": {
        "colab": {
          "base_uri": "https://localhost:8080/"
        },
        "id": "26zTJNOqbuRb",
        "outputId": "948d1464-47e9-4d23-d463-f1f63ea83146"
      },
      "execution_count": null,
      "outputs": [
        {
          "output_type": "stream",
          "name": "stdout",
          "text": [
            "Mode_K 열이 추가된 데이터프레임이 저장되었습니다.\n"
          ]
        }
      ]
    }
  ]
}