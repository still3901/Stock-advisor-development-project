{
  "nbformat": 4,
  "nbformat_minor": 0,
  "metadata": {
    "colab": {
      "provenance": []
    },
    "kernelspec": {
      "name": "python3",
      "display_name": "Python 3"
    },
    "language_info": {
      "name": "python"
    }
  },
  "cells": [
    {
      "cell_type": "code",
      "execution_count": null,
      "metadata": {
        "id": "dxR3RGdXb-Sw"
      },
      "outputs": [],
      "source": [
        "import numpy as np\n",
        "\n",
        "def calculate_bullish(M_buy, M_sell):\n",
        "    \"\"\"\n",
        "    Calculate the bullish index.\n",
        "\n",
        "    Parameters:\n",
        "    M_buy (float): The number of buy signals\n",
        "    M_sell (float): The number of sell signals\n",
        "\n",
        "    Returns:\n",
        "    float: The calculated bullish index\n",
        "    \"\"\"\n",
        "    bullish_index = np.log((1 + M_buy) / (1 + M_sell))\n",
        "    return bullish_index\n",
        "\n",
        "\n",
        "def classify_bullish_index(bullish_index):\n",
        "    \"\"\"\n",
        "    Classify the bullish index into five categories.\n",
        "\n",
        "    Parameters:\n",
        "    bullish_index (float): The bullish index value\n",
        "\n",
        "    Returns:\n",
        "    str: The classification of the bullish index\n",
        "    \"\"\"\n",
        "    if bullish_index > 1.5:\n",
        "        return  4\n",
        "    elif bullish_index > 0.5:\n",
        "        return  3\n",
        "    elif bullish_index > -0.5:\n",
        "        return  2\n",
        "    elif bullish_index > -1.5:\n",
        "        return  1\n",
        "    else:\n",
        "        return 0\n",
        "\n",
        "# Example usage:\n",
        "M_buy_example = 10  # Example value for M_{i,t}^{BUY}\n",
        "M_sell_example = 5  # Example value for M_{i,t}^{SELL}\n",
        "\n",
        "bullish_index_example = calculate_bullish(M_buy_example, M_sell_example)\n",
        "classification_example = classify_bullish_index(bullish_index_example)\n",
        "print(f\"The classification is: {classification_example}\")\n",
        "\n",
        "\n",
        "\n",
        "\n"
      ]
    },
    {
      "cell_type": "code",
      "source": [
        "import pandas as pd\n",
        "import numpy as np\n",
        "# 샘플 데이터 생성\n",
        "data = {\n",
        "    'Date': pd.date_range(start='2022-01-01', end='2022-01-10'),\n",
        "    'Sentiment': [-0.3, 0.2, 0.6, -0.7, -0.4, 0.8, 0.1, -0.2, -0.6, 0.3]\n",
        "}\n",
        "df = pd.DataFrame(data)\n",
        "\n",
        "# calculate_bullish 함수 정의\n",
        "def calculate_bullish(M_buy, M_sell):\n",
        "    bullish_index = np.log((1 + M_buy) / (1 + M_sell))\n",
        "    return bullish_index\n",
        "\n",
        "# Sentiment 컬럼 값에 따라 Buy와 Sell로 분류\n",
        "df['M_buy'] = (df['Sentiment'] >= 0.3).astype(int)\n",
        "df['M_sell'] = (df['Sentiment'] <= -0.3).astype(int)\n",
        "\n",
        "# bullish index 계산\n",
        "df['bullish_index'] = df.apply(lambda row: calculate_bullish(row['M_buy'], row['M_sell']), axis=1)\n",
        "\n",
        "# 결과 출력\n",
        "print(df[['Date', 'Sentiment', 'M_buy', 'M_sell', 'bullish_index']])\n"
      ],
      "metadata": {
        "colab": {
          "base_uri": "https://localhost:8080/"
        },
        "id": "2widMrsypmlf",
        "outputId": "5b6265c2-3c17-4457-f3a8-96dbc3e097e6"
      },
      "execution_count": null,
      "outputs": [
        {
          "output_type": "stream",
          "name": "stdout",
          "text": [
            "        Date  Sentiment  M_buy  M_sell  bullish_index\n",
            "0 2022-01-01       -0.3      0       1      -0.693147\n",
            "1 2022-01-02        0.2      0       0       0.000000\n",
            "2 2022-01-03        0.6      1       0       0.693147\n",
            "3 2022-01-04       -0.7      0       1      -0.693147\n",
            "4 2022-01-05       -0.4      0       1      -0.693147\n",
            "5 2022-01-06        0.8      1       0       0.693147\n",
            "6 2022-01-07        0.1      0       0       0.000000\n",
            "7 2022-01-08       -0.2      0       0       0.000000\n",
            "8 2022-01-09       -0.6      0       1      -0.693147\n",
            "9 2022-01-10        0.3      1       0       0.693147\n"
          ]
        }
      ]
    }
  ]
}